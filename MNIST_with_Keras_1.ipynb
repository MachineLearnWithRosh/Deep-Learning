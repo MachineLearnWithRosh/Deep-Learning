{
 "cells": [
  {
   "cell_type": "markdown",
   "metadata": {
    "colab_type": "text",
    "id": "e7--eYlkSuKO"
   },
   "source": [
    "# Keras -- MLPs on MNIST"
   ]
  },
  {
   "cell_type": "code",
   "execution_count": 0,
   "metadata": {
    "colab": {},
    "colab_type": "code",
    "id": "RnvkPJUXSqw1"
   },
   "outputs": [],
   "source": [
    "# if you keras is not using tensorflow as backend set \"KERAS_BACKEND=tensorflow\" use this command\n",
    "import warnings\n",
    "warnings.filterwarnings(\"ignore\")\n",
    "\n",
    "from keras.utils import np_utils \n",
    "from keras.datasets import mnist \n",
    "import seaborn as sns\n",
    "from keras.initializers import RandomNormal"
   ]
  },
  {
   "cell_type": "code",
   "execution_count": 0,
   "metadata": {
    "colab": {},
    "colab_type": "code",
    "id": "irfJIrDkStgx"
   },
   "outputs": [],
   "source": [
    "%matplotlib inline\n",
    "import matplotlib.pyplot as plt\n",
    "import numpy as np\n",
    "import time\n",
    "# https://gist.github.com/greydanus/f6eee59eaf1d90fcb3b534a25362cea4\n",
    "# https://stackoverflow.com/a/14434334\n",
    "# this function is used to update the plots for each epoch and error\n",
    "\n",
    "def plt_dynamic(x, vy, ty, ax,title, colors=['b']):\n",
    "    ax.plot(x, vy, 'b', label=\"Validation Loss\") #Train Error\n",
    "    ax.plot(x, ty, 'r', label=\"Train Loss\") #Test Error\n",
    "    plt.legend()\n",
    "    plt.grid()\n",
    "    plt.title(title)\n",
    "    fig.canvas.draw()"
   ]
  },
  {
   "cell_type": "code",
   "execution_count": 4,
   "metadata": {
    "colab": {
     "base_uri": "https://localhost:8080/",
     "height": 52
    },
    "colab_type": "code",
    "id": "wPzBTZzSSj13",
    "outputId": "43c7deea-06ad-443f-f4a4-fd52730e50d1"
   },
   "outputs": [
    {
     "name": "stdout",
     "output_type": "stream",
     "text": [
      "Downloading data from https://s3.amazonaws.com/img-datasets/mnist.npz\n",
      "11493376/11490434 [==============================] - 1s 0us/step\n"
     ]
    }
   ],
   "source": [
    "# the data, shuffled and split between train and test sets \n",
    "(X_train, y_train), (X_test, y_test) = mnist.load_data()"
   ]
  },
  {
   "cell_type": "code",
   "execution_count": 5,
   "metadata": {
    "colab": {
     "base_uri": "https://localhost:8080/",
     "height": 52
    },
    "colab_type": "code",
    "id": "IUNLfB45TNvU",
    "outputId": "c852a675-5fd8-49f5-ea45-1cb3493aa3ab"
   },
   "outputs": [
    {
     "name": "stdout",
     "output_type": "stream",
     "text": [
      "Number of training examples : 60000 and each image is of shape (28, 28)\n",
      "Number of training examples : 10000 and each image is of shape (28, 28)\n"
     ]
    }
   ],
   "source": [
    "print(\"Number of training examples :\", X_train.shape[0], \"and each image is of shape (%d, %d)\"%(X_train.shape[1], X_train.shape[2]))\n",
    "print(\"Number of training examples :\", X_test.shape[0], \"and each image is of shape (%d, %d)\"%(X_test.shape[1], X_test.shape[2]))"
   ]
  },
  {
   "cell_type": "code",
   "execution_count": 0,
   "metadata": {
    "colab": {},
    "colab_type": "code",
    "id": "zN7pN02STQm_"
   },
   "outputs": [],
   "source": [
    "# if you observe the input shape its 2 dimensional vector\n",
    "# for each image we have a (28*28) vector\n",
    "# we will convert the (28*28) vector into single dimensional vector of 1 * 784 \n",
    "\n",
    "X_train = X_train.reshape(X_train.shape[0], X_train.shape[1]*X_train.shape[2]) \n",
    "X_test = X_test.reshape(X_test.shape[0], X_test.shape[1]*X_test.shape[2]) "
   ]
  },
  {
   "cell_type": "code",
   "execution_count": 7,
   "metadata": {
    "colab": {
     "base_uri": "https://localhost:8080/",
     "height": 52
    },
    "colab_type": "code",
    "id": "5aMYEv-VTUXR",
    "outputId": "cb15b03c-af52-4ddc-e761-5a83938d5b13"
   },
   "outputs": [
    {
     "name": "stdout",
     "output_type": "stream",
     "text": [
      "Number of training examples : 60000 and each image is of shape (784)\n",
      "Number of training examples : 10000 and each image is of shape (784)\n"
     ]
    }
   ],
   "source": [
    "# after converting the input images from 3d to 2d vectors\n",
    "\n",
    "print(\"Number of training examples :\", X_train.shape[0], \"and each image is of shape (%d)\"%(X_train.shape[1]))\n",
    "print(\"Number of training examples :\", X_test.shape[0], \"and each image is of shape (%d)\"%(X_test.shape[1]))"
   ]
  },
  {
   "cell_type": "code",
   "execution_count": 8,
   "metadata": {
    "colab": {
     "base_uri": "https://localhost:8080/",
     "height": 799
    },
    "colab_type": "code",
    "id": "YAP7aG2OTXeh",
    "outputId": "817b6e81-8758-4557-c632-cf7958d4b349"
   },
   "outputs": [
    {
     "name": "stdout",
     "output_type": "stream",
     "text": [
      "[  0   0   0   0   0   0   0   0   0   0   0   0   0   0   0   0   0   0\n",
      "   0   0   0   0   0   0   0   0   0   0   0   0   0   0   0   0   0   0\n",
      "   0   0   0   0   0   0   0   0   0   0   0   0   0   0   0   0   0   0\n",
      "   0   0   0   0   0   0   0   0   0   0   0   0   0   0   0   0   0   0\n",
      "   0   0   0   0   0   0   0   0   0   0   0   0   0   0   0   0   0   0\n",
      "   0   0   0   0   0   0   0   0   0   0   0   0   0   0   0   0   0   0\n",
      "   0   0   0   0   0   0   0   0   0   0   0   0   0   0   0   0   0   0\n",
      "   0   0   0   0   0   0   0   0   0   0   0   0   0   0   0   0   0   0\n",
      "   0   0   0   0   0   0   0   0   3  18  18  18 126 136 175  26 166 255\n",
      " 247 127   0   0   0   0   0   0   0   0   0   0   0   0  30  36  94 154\n",
      " 170 253 253 253 253 253 225 172 253 242 195  64   0   0   0   0   0   0\n",
      "   0   0   0   0   0  49 238 253 253 253 253 253 253 253 253 251  93  82\n",
      "  82  56  39   0   0   0   0   0   0   0   0   0   0   0   0  18 219 253\n",
      " 253 253 253 253 198 182 247 241   0   0   0   0   0   0   0   0   0   0\n",
      "   0   0   0   0   0   0   0   0  80 156 107 253 253 205  11   0  43 154\n",
      "   0   0   0   0   0   0   0   0   0   0   0   0   0   0   0   0   0   0\n",
      "   0  14   1 154 253  90   0   0   0   0   0   0   0   0   0   0   0   0\n",
      "   0   0   0   0   0   0   0   0   0   0   0   0   0 139 253 190   2   0\n",
      "   0   0   0   0   0   0   0   0   0   0   0   0   0   0   0   0   0   0\n",
      "   0   0   0   0   0  11 190 253  70   0   0   0   0   0   0   0   0   0\n",
      "   0   0   0   0   0   0   0   0   0   0   0   0   0   0   0   0  35 241\n",
      " 225 160 108   1   0   0   0   0   0   0   0   0   0   0   0   0   0   0\n",
      "   0   0   0   0   0   0   0   0   0  81 240 253 253 119  25   0   0   0\n",
      "   0   0   0   0   0   0   0   0   0   0   0   0   0   0   0   0   0   0\n",
      "   0   0  45 186 253 253 150  27   0   0   0   0   0   0   0   0   0   0\n",
      "   0   0   0   0   0   0   0   0   0   0   0   0   0  16  93 252 253 187\n",
      "   0   0   0   0   0   0   0   0   0   0   0   0   0   0   0   0   0   0\n",
      "   0   0   0   0   0   0   0 249 253 249  64   0   0   0   0   0   0   0\n",
      "   0   0   0   0   0   0   0   0   0   0   0   0   0   0  46 130 183 253\n",
      " 253 207   2   0   0   0   0   0   0   0   0   0   0   0   0   0   0   0\n",
      "   0   0   0   0  39 148 229 253 253 253 250 182   0   0   0   0   0   0\n",
      "   0   0   0   0   0   0   0   0   0   0   0   0  24 114 221 253 253 253\n",
      " 253 201  78   0   0   0   0   0   0   0   0   0   0   0   0   0   0   0\n",
      "   0   0  23  66 213 253 253 253 253 198  81   2   0   0   0   0   0   0\n",
      "   0   0   0   0   0   0   0   0   0   0  18 171 219 253 253 253 253 195\n",
      "  80   9   0   0   0   0   0   0   0   0   0   0   0   0   0   0   0   0\n",
      "  55 172 226 253 253 253 253 244 133  11   0   0   0   0   0   0   0   0\n",
      "   0   0   0   0   0   0   0   0   0   0 136 253 253 253 212 135 132  16\n",
      "   0   0   0   0   0   0   0   0   0   0   0   0   0   0   0   0   0   0\n",
      "   0   0   0   0   0   0   0   0   0   0   0   0   0   0   0   0   0   0\n",
      "   0   0   0   0   0   0   0   0   0   0   0   0   0   0   0   0   0   0\n",
      "   0   0   0   0   0   0   0   0   0   0   0   0   0   0   0   0   0   0\n",
      "   0   0   0   0   0   0   0   0   0   0   0   0   0   0   0   0   0   0\n",
      "   0   0   0   0   0   0   0   0   0   0]\n"
     ]
    }
   ],
   "source": [
    "# An example data point\n",
    "print(X_train[0])"
   ]
  },
  {
   "cell_type": "code",
   "execution_count": 0,
   "metadata": {
    "colab": {},
    "colab_type": "code",
    "id": "GX3RFBDnTZ_R"
   },
   "outputs": [],
   "source": [
    "# if we observe the above matrix each cell is having a value between 0-255\n",
    "# before we move to apply machine learning algorithms lets try to normalize the data\n",
    "# X => (X - Xmin)/(Xmax-Xmin) = X/255\n",
    "\n",
    "X_train = X_train/255\n",
    "X_test = X_test/255"
   ]
  },
  {
   "cell_type": "code",
   "execution_count": 10,
   "metadata": {
    "colab": {
     "base_uri": "https://localhost:8080/",
     "height": 1000
    },
    "colab_type": "code",
    "id": "qNx-Q_BHTc1F",
    "outputId": "0ad5d8ae-b96a-4f4b-dbae-1165aa329b19"
   },
   "outputs": [
    {
     "name": "stdout",
     "output_type": "stream",
     "text": [
      "[0.         0.         0.         0.         0.         0.\n",
      " 0.         0.         0.         0.         0.         0.\n",
      " 0.         0.         0.         0.         0.         0.\n",
      " 0.         0.         0.         0.         0.         0.\n",
      " 0.         0.         0.         0.         0.         0.\n",
      " 0.         0.         0.         0.         0.         0.\n",
      " 0.         0.         0.         0.         0.         0.\n",
      " 0.         0.         0.         0.         0.         0.\n",
      " 0.         0.         0.         0.         0.         0.\n",
      " 0.         0.         0.         0.         0.         0.\n",
      " 0.         0.         0.         0.         0.         0.\n",
      " 0.         0.         0.         0.         0.         0.\n",
      " 0.         0.         0.         0.         0.         0.\n",
      " 0.         0.         0.         0.         0.         0.\n",
      " 0.         0.         0.         0.         0.         0.\n",
      " 0.         0.         0.         0.         0.         0.\n",
      " 0.         0.         0.         0.         0.         0.\n",
      " 0.         0.         0.         0.         0.         0.\n",
      " 0.         0.         0.         0.         0.         0.\n",
      " 0.         0.         0.         0.         0.         0.\n",
      " 0.         0.         0.         0.         0.         0.\n",
      " 0.         0.         0.         0.         0.         0.\n",
      " 0.         0.         0.         0.         0.         0.\n",
      " 0.         0.         0.         0.         0.         0.\n",
      " 0.         0.         0.         0.         0.         0.\n",
      " 0.         0.         0.01176471 0.07058824 0.07058824 0.07058824\n",
      " 0.49411765 0.53333333 0.68627451 0.10196078 0.65098039 1.\n",
      " 0.96862745 0.49803922 0.         0.         0.         0.\n",
      " 0.         0.         0.         0.         0.         0.\n",
      " 0.         0.         0.11764706 0.14117647 0.36862745 0.60392157\n",
      " 0.66666667 0.99215686 0.99215686 0.99215686 0.99215686 0.99215686\n",
      " 0.88235294 0.6745098  0.99215686 0.94901961 0.76470588 0.25098039\n",
      " 0.         0.         0.         0.         0.         0.\n",
      " 0.         0.         0.         0.         0.         0.19215686\n",
      " 0.93333333 0.99215686 0.99215686 0.99215686 0.99215686 0.99215686\n",
      " 0.99215686 0.99215686 0.99215686 0.98431373 0.36470588 0.32156863\n",
      " 0.32156863 0.21960784 0.15294118 0.         0.         0.\n",
      " 0.         0.         0.         0.         0.         0.\n",
      " 0.         0.         0.         0.07058824 0.85882353 0.99215686\n",
      " 0.99215686 0.99215686 0.99215686 0.99215686 0.77647059 0.71372549\n",
      " 0.96862745 0.94509804 0.         0.         0.         0.\n",
      " 0.         0.         0.         0.         0.         0.\n",
      " 0.         0.         0.         0.         0.         0.\n",
      " 0.         0.         0.31372549 0.61176471 0.41960784 0.99215686\n",
      " 0.99215686 0.80392157 0.04313725 0.         0.16862745 0.60392157\n",
      " 0.         0.         0.         0.         0.         0.\n",
      " 0.         0.         0.         0.         0.         0.\n",
      " 0.         0.         0.         0.         0.         0.\n",
      " 0.         0.05490196 0.00392157 0.60392157 0.99215686 0.35294118\n",
      " 0.         0.         0.         0.         0.         0.\n",
      " 0.         0.         0.         0.         0.         0.\n",
      " 0.         0.         0.         0.         0.         0.\n",
      " 0.         0.         0.         0.         0.         0.\n",
      " 0.         0.54509804 0.99215686 0.74509804 0.00784314 0.\n",
      " 0.         0.         0.         0.         0.         0.\n",
      " 0.         0.         0.         0.         0.         0.\n",
      " 0.         0.         0.         0.         0.         0.\n",
      " 0.         0.         0.         0.         0.         0.04313725\n",
      " 0.74509804 0.99215686 0.2745098  0.         0.         0.\n",
      " 0.         0.         0.         0.         0.         0.\n",
      " 0.         0.         0.         0.         0.         0.\n",
      " 0.         0.         0.         0.         0.         0.\n",
      " 0.         0.         0.         0.         0.1372549  0.94509804\n",
      " 0.88235294 0.62745098 0.42352941 0.00392157 0.         0.\n",
      " 0.         0.         0.         0.         0.         0.\n",
      " 0.         0.         0.         0.         0.         0.\n",
      " 0.         0.         0.         0.         0.         0.\n",
      " 0.         0.         0.         0.31764706 0.94117647 0.99215686\n",
      " 0.99215686 0.46666667 0.09803922 0.         0.         0.\n",
      " 0.         0.         0.         0.         0.         0.\n",
      " 0.         0.         0.         0.         0.         0.\n",
      " 0.         0.         0.         0.         0.         0.\n",
      " 0.         0.         0.17647059 0.72941176 0.99215686 0.99215686\n",
      " 0.58823529 0.10588235 0.         0.         0.         0.\n",
      " 0.         0.         0.         0.         0.         0.\n",
      " 0.         0.         0.         0.         0.         0.\n",
      " 0.         0.         0.         0.         0.         0.\n",
      " 0.         0.0627451  0.36470588 0.98823529 0.99215686 0.73333333\n",
      " 0.         0.         0.         0.         0.         0.\n",
      " 0.         0.         0.         0.         0.         0.\n",
      " 0.         0.         0.         0.         0.         0.\n",
      " 0.         0.         0.         0.         0.         0.\n",
      " 0.         0.97647059 0.99215686 0.97647059 0.25098039 0.\n",
      " 0.         0.         0.         0.         0.         0.\n",
      " 0.         0.         0.         0.         0.         0.\n",
      " 0.         0.         0.         0.         0.         0.\n",
      " 0.         0.         0.18039216 0.50980392 0.71764706 0.99215686\n",
      " 0.99215686 0.81176471 0.00784314 0.         0.         0.\n",
      " 0.         0.         0.         0.         0.         0.\n",
      " 0.         0.         0.         0.         0.         0.\n",
      " 0.         0.         0.         0.         0.15294118 0.58039216\n",
      " 0.89803922 0.99215686 0.99215686 0.99215686 0.98039216 0.71372549\n",
      " 0.         0.         0.         0.         0.         0.\n",
      " 0.         0.         0.         0.         0.         0.\n",
      " 0.         0.         0.         0.         0.         0.\n",
      " 0.09411765 0.44705882 0.86666667 0.99215686 0.99215686 0.99215686\n",
      " 0.99215686 0.78823529 0.30588235 0.         0.         0.\n",
      " 0.         0.         0.         0.         0.         0.\n",
      " 0.         0.         0.         0.         0.         0.\n",
      " 0.         0.         0.09019608 0.25882353 0.83529412 0.99215686\n",
      " 0.99215686 0.99215686 0.99215686 0.77647059 0.31764706 0.00784314\n",
      " 0.         0.         0.         0.         0.         0.\n",
      " 0.         0.         0.         0.         0.         0.\n",
      " 0.         0.         0.         0.         0.07058824 0.67058824\n",
      " 0.85882353 0.99215686 0.99215686 0.99215686 0.99215686 0.76470588\n",
      " 0.31372549 0.03529412 0.         0.         0.         0.\n",
      " 0.         0.         0.         0.         0.         0.\n",
      " 0.         0.         0.         0.         0.         0.\n",
      " 0.21568627 0.6745098  0.88627451 0.99215686 0.99215686 0.99215686\n",
      " 0.99215686 0.95686275 0.52156863 0.04313725 0.         0.\n",
      " 0.         0.         0.         0.         0.         0.\n",
      " 0.         0.         0.         0.         0.         0.\n",
      " 0.         0.         0.         0.         0.53333333 0.99215686\n",
      " 0.99215686 0.99215686 0.83137255 0.52941176 0.51764706 0.0627451\n",
      " 0.         0.         0.         0.         0.         0.\n",
      " 0.         0.         0.         0.         0.         0.\n",
      " 0.         0.         0.         0.         0.         0.\n",
      " 0.         0.         0.         0.         0.         0.\n",
      " 0.         0.         0.         0.         0.         0.\n",
      " 0.         0.         0.         0.         0.         0.\n",
      " 0.         0.         0.         0.         0.         0.\n",
      " 0.         0.         0.         0.         0.         0.\n",
      " 0.         0.         0.         0.         0.         0.\n",
      " 0.         0.         0.         0.         0.         0.\n",
      " 0.         0.         0.         0.         0.         0.\n",
      " 0.         0.         0.         0.         0.         0.\n",
      " 0.         0.         0.         0.         0.         0.\n",
      " 0.         0.         0.         0.         0.         0.\n",
      " 0.         0.         0.         0.         0.         0.\n",
      " 0.         0.         0.         0.         0.         0.\n",
      " 0.         0.         0.         0.        ]\n"
     ]
    }
   ],
   "source": [
    "# example data point after normlizing\n",
    "print(X_train[0])"
   ]
  },
  {
   "cell_type": "code",
   "execution_count": 11,
   "metadata": {
    "colab": {
     "base_uri": "https://localhost:8080/",
     "height": 88
    },
    "colab_type": "code",
    "id": "s9tOesVjTfrY",
    "outputId": "33fe2d61-8468-40e5-d57c-553f84f9fe81"
   },
   "outputs": [
    {
     "name": "stdout",
     "output_type": "stream",
     "text": [
      "Class label of first image : 5\n",
      "Class label of Sec image : 2\n",
      "After converting the output into a vector :  [0. 0. 0. 0. 0. 1. 0. 0. 0. 0.]\n",
      "After converting the output into a vector :  [0. 0. 1. 0. 0. 0. 0. 0. 0. 0.]\n"
     ]
    }
   ],
   "source": [
    "# here we are having a class number for each image\n",
    "print(\"Class label of first image :\", y_train[0])\n",
    "\n",
    "print(\"Class label of Sec image :\", y_train[5])\n",
    "\n",
    "# lets convert this into a 10 dimensional vector\n",
    "# ex: consider an image is 5 convert it into 5 => [0, 0, 0, 0, 0, 1, 0, 0, 0, 0]\n",
    "# this conversion needed for MLPs \n",
    "\n",
    "Y_train = np_utils.to_categorical(y_train, 10) \n",
    "Y_test = np_utils.to_categorical(y_test, 10)\n",
    "\n",
    "print(\"After converting the output into a vector : \",Y_train[0])\n",
    "print(\"After converting the output into a vector : \",Y_train[5])"
   ]
  },
  {
   "cell_type": "code",
   "execution_count": 0,
   "metadata": {
    "colab": {},
    "colab_type": "code",
    "id": "2yE-38bPWHDN"
   },
   "outputs": [],
   "source": [
    "# some model parameters\n",
    "\n",
    "output_dim = 10\n",
    "input_dim = X_train.shape[1]\n",
    "\n",
    "batch_size = 128 \n",
    "nb_epoch = 20"
   ]
  },
  {
   "cell_type": "markdown",
   "metadata": {
    "colab_type": "text",
    "id": "2qYgo_54UXTm"
   },
   "source": [
    "### **Model 1: Input(784) - ReLu(512) - Dropout - ReLu(128)- Dropout -Sigmoid(output)**\n",
    "\n",
    "###Two Hidden Layer"
   ]
  },
  {
   "cell_type": "code",
   "execution_count": 0,
   "metadata": {
    "colab": {},
    "colab_type": "code",
    "id": "gRbZzPqPTkV1"
   },
   "outputs": [],
   "source": [
    "from keras.models import Sequential \n",
    "from keras.layers import Dense, Activation \n",
    "from keras.layers.normalization import BatchNormalization\n",
    "from keras.layers import Dropout\n"
   ]
  },
  {
   "cell_type": "code",
   "execution_count": 17,
   "metadata": {
    "colab": {
     "base_uri": "https://localhost:8080/",
     "height": 624
    },
    "colab_type": "code",
    "id": "RxO-hQtmWNin",
    "outputId": "30db2006-a3a7-4436-aa93-e28258673bb8"
   },
   "outputs": [
    {
     "name": "stdout",
     "output_type": "stream",
     "text": [
      "WARNING:tensorflow:From /usr/local/lib/python3.6/dist-packages/keras/backend/tensorflow_backend.py:541: The name tf.placeholder is deprecated. Please use tf.compat.v1.placeholder instead.\n",
      "\n",
      "WARNING:tensorflow:From /usr/local/lib/python3.6/dist-packages/keras/backend/tensorflow_backend.py:4409: The name tf.random_normal is deprecated. Please use tf.random.normal instead.\n",
      "\n",
      "WARNING:tensorflow:From /usr/local/lib/python3.6/dist-packages/keras/backend/tensorflow_backend.py:148: The name tf.placeholder_with_default is deprecated. Please use tf.compat.v1.placeholder_with_default instead.\n",
      "\n",
      "WARNING:tensorflow:From /usr/local/lib/python3.6/dist-packages/keras/backend/tensorflow_backend.py:3733: calling dropout (from tensorflow.python.ops.nn_ops) with keep_prob is deprecated and will be removed in a future version.\n",
      "Instructions for updating:\n",
      "Please use `rate` instead of `keep_prob`. Rate should be set to `rate = 1 - keep_prob`.\n",
      "WARNING:tensorflow:From /usr/local/lib/python3.6/dist-packages/keras/backend/tensorflow_backend.py:4432: The name tf.random_uniform is deprecated. Please use tf.random.uniform instead.\n",
      "\n",
      "Model: \"sequential_2\"\n",
      "_________________________________________________________________\n",
      "Layer (type)                 Output Shape              Param #   \n",
      "=================================================================\n",
      "dense_1 (Dense)              (None, 512)               401920    \n",
      "_________________________________________________________________\n",
      "batch_normalization_1 (Batch (None, 512)               2048      \n",
      "_________________________________________________________________\n",
      "dropout_1 (Dropout)          (None, 512)               0         \n",
      "_________________________________________________________________\n",
      "dense_2 (Dense)              (None, 128)               65664     \n",
      "_________________________________________________________________\n",
      "batch_normalization_2 (Batch (None, 128)               512       \n",
      "_________________________________________________________________\n",
      "dropout_2 (Dropout)          (None, 128)               0         \n",
      "_________________________________________________________________\n",
      "dense_3 (Dense)              (None, 10)                1290      \n",
      "=================================================================\n",
      "Total params: 471,434\n",
      "Trainable params: 470,154\n",
      "Non-trainable params: 1,280\n",
      "_________________________________________________________________\n"
     ]
    }
   ],
   "source": [
    "# https://stackoverflow.com/questions/34716454/where-do-i-call-the-batchnormalization-function-in-keras\n",
    "# Multilayer perceptron\n",
    "\n",
    "# https://arxiv.org/pdf/1707.09725.pdf#page=95\n",
    "# for relu layers\n",
    "# If we sample weights from a normal distribution N(0,σ) we satisfy this condition with σ=√(2/(ni). \n",
    "# h1 =>  σ=√(2/(fan_in) = 0.051  => N(0,σ) = N(0,0.051)\n",
    "# h2 =>  σ=√(2/(fan_in) = 0.062  => N(0,σ) = N(0,0.062)\n",
    "# out =>  σ=√(2/(fan_in+1) = 0.125  => N(0,σ) = N(0,0.125)\n",
    "\n",
    "\n",
    "from keras.layers import Dropout\n",
    "\n",
    "model_drop = Sequential()\n",
    "\n",
    "model_drop.add(Dense(512, activation='relu', input_shape=(input_dim,), kernel_initializer=RandomNormal(mean=0.0, stddev=0.051, seed=None)))\n",
    "model_drop.add(BatchNormalization())\n",
    "model_drop.add(Dropout(0.5))\n",
    "\n",
    "model_drop.add(Dense(128, activation='relu', kernel_initializer=RandomNormal(mean=0.0, stddev=0.062, seed=None)) )\n",
    "model_drop.add(BatchNormalization())\n",
    "model_drop.add(Dropout(0.5))\n",
    "\n",
    "model_drop.add(Dense(output_dim, activation='softmax'))\n",
    "\n",
    "\n",
    "model_drop.summary()"
   ]
  },
  {
   "cell_type": "code",
   "execution_count": 18,
   "metadata": {
    "colab": {
     "base_uri": "https://localhost:8080/",
     "height": 1000
    },
    "colab_type": "code",
    "id": "eaGGiP9LaOBU",
    "outputId": "cffba2a3-3f3c-4577-833d-fae0937ff4b7"
   },
   "outputs": [
    {
     "name": "stdout",
     "output_type": "stream",
     "text": [
      "WARNING:tensorflow:From /usr/local/lib/python3.6/dist-packages/keras/optimizers.py:793: The name tf.train.Optimizer is deprecated. Please use tf.compat.v1.train.Optimizer instead.\n",
      "\n",
      "WARNING:tensorflow:From /usr/local/lib/python3.6/dist-packages/keras/backend/tensorflow_backend.py:3576: The name tf.log is deprecated. Please use tf.math.log instead.\n",
      "\n",
      "WARNING:tensorflow:From /usr/local/lib/python3.6/dist-packages/tensorflow_core/python/ops/math_grad.py:1424: where (from tensorflow.python.ops.array_ops) is deprecated and will be removed in a future version.\n",
      "Instructions for updating:\n",
      "Use tf.where in 2.0, which has the same broadcast rule as np.where\n",
      "WARNING:tensorflow:From /usr/local/lib/python3.6/dist-packages/keras/backend/tensorflow_backend.py:1033: The name tf.assign_add is deprecated. Please use tf.compat.v1.assign_add instead.\n",
      "\n",
      "WARNING:tensorflow:From /usr/local/lib/python3.6/dist-packages/keras/backend/tensorflow_backend.py:1020: The name tf.assign is deprecated. Please use tf.compat.v1.assign instead.\n",
      "\n",
      "WARNING:tensorflow:From /usr/local/lib/python3.6/dist-packages/keras/backend/tensorflow_backend.py:3005: The name tf.Session is deprecated. Please use tf.compat.v1.Session instead.\n",
      "\n",
      "Train on 60000 samples, validate on 10000 samples\n",
      "Epoch 1/20\n",
      "WARNING:tensorflow:From /usr/local/lib/python3.6/dist-packages/keras/backend/tensorflow_backend.py:190: The name tf.get_default_session is deprecated. Please use tf.compat.v1.get_default_session instead.\n",
      "\n",
      "WARNING:tensorflow:From /usr/local/lib/python3.6/dist-packages/keras/backend/tensorflow_backend.py:197: The name tf.ConfigProto is deprecated. Please use tf.compat.v1.ConfigProto instead.\n",
      "\n",
      "WARNING:tensorflow:From /usr/local/lib/python3.6/dist-packages/keras/backend/tensorflow_backend.py:207: The name tf.global_variables is deprecated. Please use tf.compat.v1.global_variables instead.\n",
      "\n",
      "WARNING:tensorflow:From /usr/local/lib/python3.6/dist-packages/keras/backend/tensorflow_backend.py:216: The name tf.is_variable_initialized is deprecated. Please use tf.compat.v1.is_variable_initialized instead.\n",
      "\n",
      "WARNING:tensorflow:From /usr/local/lib/python3.6/dist-packages/keras/backend/tensorflow_backend.py:223: The name tf.variables_initializer is deprecated. Please use tf.compat.v1.variables_initializer instead.\n",
      "\n",
      "60000/60000 [==============================] - 10s 159us/step - loss: 0.4357 - acc: 0.8677 - val_loss: 0.1425 - val_acc: 0.9562\n",
      "Epoch 2/20\n",
      "60000/60000 [==============================] - 8s 138us/step - loss: 0.2077 - acc: 0.9369 - val_loss: 0.1076 - val_acc: 0.9688\n",
      "Epoch 3/20\n",
      "60000/60000 [==============================] - 8s 138us/step - loss: 0.1630 - acc: 0.9505 - val_loss: 0.0965 - val_acc: 0.9706\n",
      "Epoch 4/20\n",
      "60000/60000 [==============================] - 8s 138us/step - loss: 0.1344 - acc: 0.9593 - val_loss: 0.0821 - val_acc: 0.9754\n",
      "Epoch 5/20\n",
      "60000/60000 [==============================] - 8s 139us/step - loss: 0.1206 - acc: 0.9633 - val_loss: 0.0758 - val_acc: 0.9769\n",
      "Epoch 6/20\n",
      "60000/60000 [==============================] - 8s 140us/step - loss: 0.1107 - acc: 0.9658 - val_loss: 0.0714 - val_acc: 0.9776\n",
      "Epoch 7/20\n",
      "60000/60000 [==============================] - 9s 142us/step - loss: 0.1001 - acc: 0.9685 - val_loss: 0.0705 - val_acc: 0.9782\n",
      "Epoch 8/20\n",
      "60000/60000 [==============================] - 8s 140us/step - loss: 0.0960 - acc: 0.9693 - val_loss: 0.0702 - val_acc: 0.9789\n",
      "Epoch 9/20\n",
      "60000/60000 [==============================] - 8s 140us/step - loss: 0.0883 - acc: 0.9720 - val_loss: 0.0645 - val_acc: 0.9819\n",
      "Epoch 10/20\n",
      "60000/60000 [==============================] - 8s 140us/step - loss: 0.0827 - acc: 0.9738 - val_loss: 0.0669 - val_acc: 0.9801\n",
      "Epoch 11/20\n",
      "60000/60000 [==============================] - 8s 137us/step - loss: 0.0815 - acc: 0.9746 - val_loss: 0.0597 - val_acc: 0.9813\n",
      "Epoch 12/20\n",
      "60000/60000 [==============================] - 8s 135us/step - loss: 0.0736 - acc: 0.9766 - val_loss: 0.0590 - val_acc: 0.9818\n",
      "Epoch 13/20\n",
      "60000/60000 [==============================] - 8s 132us/step - loss: 0.0702 - acc: 0.9771 - val_loss: 0.0544 - val_acc: 0.9835\n",
      "Epoch 14/20\n",
      "60000/60000 [==============================] - 8s 136us/step - loss: 0.0661 - acc: 0.9793 - val_loss: 0.0583 - val_acc: 0.9831\n",
      "Epoch 15/20\n",
      "60000/60000 [==============================] - 8s 134us/step - loss: 0.0649 - acc: 0.9786 - val_loss: 0.0605 - val_acc: 0.9830\n",
      "Epoch 16/20\n",
      "60000/60000 [==============================] - 8s 135us/step - loss: 0.0632 - acc: 0.9800 - val_loss: 0.0575 - val_acc: 0.9826\n",
      "Epoch 17/20\n",
      "60000/60000 [==============================] - 8s 136us/step - loss: 0.0620 - acc: 0.9805 - val_loss: 0.0628 - val_acc: 0.9814\n",
      "Epoch 18/20\n",
      "60000/60000 [==============================] - 8s 134us/step - loss: 0.0591 - acc: 0.9816 - val_loss: 0.0537 - val_acc: 0.9835\n",
      "Epoch 19/20\n",
      "60000/60000 [==============================] - 8s 135us/step - loss: 0.0546 - acc: 0.9827 - val_loss: 0.0517 - val_acc: 0.9848\n",
      "Epoch 20/20\n",
      "60000/60000 [==============================] - 8s 133us/step - loss: 0.0530 - acc: 0.9829 - val_loss: 0.0596 - val_acc: 0.9827\n"
     ]
    }
   ],
   "source": [
    "model_drop.compile(optimizer='adam', loss='categorical_crossentropy', metrics=['accuracy'])\n",
    "\n",
    "history = model_drop.fit(X_train, Y_train, batch_size=batch_size, epochs=nb_epoch, verbose=1, validation_data=(X_test, Y_test))"
   ]
  },
  {
   "cell_type": "code",
   "execution_count": 22,
   "metadata": {
    "colab": {
     "base_uri": "https://localhost:8080/",
     "height": 348
    },
    "colab_type": "code",
    "id": "9JxvpkB3arka",
    "outputId": "e237706b-11ba-4a59-a487-b528cf121237"
   },
   "outputs": [
    {
     "name": "stdout",
     "output_type": "stream",
     "text": [
      "Test score: 0.05960580374380806\n",
      "Test accuracy: 0.9827\n"
     ]
    },
    {
     "data": {
      "text/plain": [
       "Text(0.5, 1, 'Input(784) - ReLu(512) - Dropout - ReLu(128)- Dropout -Sigmoid(output)')"
      ]
     },
     "execution_count": 22,
     "metadata": {
      "tags": []
     },
     "output_type": "execute_result"
    },
    {
     "data": {
      "image/png": "[encoded data removed]",
      "text/plain": [
       "<Figure size 432x288 with 1 Axes>"
      ]
     },
     "metadata": {
      "tags": []
     },
     "output_type": "display_data"
    }
   ],
   "source": [
    "score = model_drop.evaluate(X_test, Y_test, verbose=0) \n",
    "print('Test score:', score[0]) \n",
    "print('Test accuracy:', score[1])\n",
    "\n",
    "fig,ax = plt.subplots(1,1)\n",
    "ax.set_xlabel('epoch') ; ax.set_ylabel('Categorical Crossentropy Loss')\n",
    "\n",
    "# list of epoch numbers\n",
    "x = list(range(1,nb_epoch+1))\n",
    "\n",
    "# print(history.history.keys())\n",
    "# dict_keys(['val_loss', 'val_acc', 'loss', 'acc'])\n",
    "# history = model_drop.fit(X_train, Y_train, batch_size=batch_size, epochs=nb_epoch, verbose=1, validation_data=(X_test, Y_test))\n",
    "\n",
    "# we will get val_loss and val_acc only when you pass the paramter validation_data\n",
    "# val_loss : validation loss\n",
    "# val_acc : validation accuracy\n",
    "\n",
    "# loss : training loss\n",
    "# acc : train accuracy\n",
    "# for each key in histrory.histrory we will have a list of length equal to number of epochs\n",
    "\n",
    "vy = history.history['val_loss'] #test\n",
    "ty = history.history['loss']  #train\n",
    "plt_dynamic(x, vy, ty, ax,\"Input(784) - ReLu(512) - Dropout - ReLu(128)- Dropout -Sigmoid(output)\")\n",
    "plt.title(\"Input(784) - ReLu(512) - Dropout - ReLu(128)- Dropout -Sigmoid(output)\")"
   ]
  },
  {
   "cell_type": "markdown",
   "metadata": {
    "colab_type": "text",
    "id": "1CWCSt5JdZcx"
   },
   "source": [
    "### **Model 2: Input(784) - ReLu(512) - Dropout - ReLu(256)- Dropout - ReLu(128)- Dropout -Sigmoid(output)**"
   ]
  },
  {
   "cell_type": "code",
   "execution_count": 27,
   "metadata": {
    "colab": {
     "base_uri": "https://localhost:8080/",
     "height": 515
    },
    "colab_type": "code",
    "id": "29rWL-tFduo2",
    "outputId": "491ad8a4-e7ba-490e-f060-036092b32a6d"
   },
   "outputs": [
    {
     "name": "stdout",
     "output_type": "stream",
     "text": [
      "Model: \"sequential_5\"\n",
      "_________________________________________________________________\n",
      "Layer (type)                 Output Shape              Param #   \n",
      "=================================================================\n",
      "dense_12 (Dense)             (None, 512)               401920    \n",
      "_________________________________________________________________\n",
      "batch_normalization_9 (Batch (None, 512)               2048      \n",
      "_________________________________________________________________\n",
      "dropout_9 (Dropout)          (None, 512)               0         \n",
      "_________________________________________________________________\n",
      "dense_13 (Dense)             (None, 256)               131328    \n",
      "_________________________________________________________________\n",
      "batch_normalization_10 (Batc (None, 256)               1024      \n",
      "_________________________________________________________________\n",
      "dropout_10 (Dropout)         (None, 256)               0         \n",
      "_________________________________________________________________\n",
      "dense_14 (Dense)             (None, 128)               32896     \n",
      "_________________________________________________________________\n",
      "batch_normalization_11 (Batc (None, 128)               512       \n",
      "_________________________________________________________________\n",
      "dropout_11 (Dropout)         (None, 128)               0         \n",
      "_________________________________________________________________\n",
      "dense_15 (Dense)             (None, 10)                1290      \n",
      "=================================================================\n",
      "Total params: 571,018\n",
      "Trainable params: 569,226\n",
      "Non-trainable params: 1,792\n",
      "_________________________________________________________________\n"
     ]
    }
   ],
   "source": [
    "# https://stackoverflow.com/questions/34716454/where-do-i-call-the-batchnormalization-function-in-keras\n",
    "# Multilayer perceptron\n",
    "\n",
    "# https://arxiv.org/pdf/1707.09725.pdf#page=95\n",
    "# for relu layers\n",
    "# If we sample weights from a normal distribution N(0,σ) we satisfy this condition with σ=√(2/(ni). \n",
    "# h1 =>  σ=√(2/(fan_in) = 0.051  => N(0,σ) = N(0,0.051)\n",
    "# h2 =>  σ=√(2/(fan_in) = 0.0625  => N(0,σ) = N(0,0.0625)\n",
    "# h3 =>  σ=√(2/(fan_in) = 0.088  => N(0,σ) = N(0,0.088)\n",
    "# out =>  σ=√(2/(fan_in+1) = 0.125  => N(0,σ) = N(0,0.125)\n",
    "\n",
    "\n",
    "from keras.layers import Dropout\n",
    "\n",
    "model_two = Sequential()\n",
    "\n",
    "model_two.add(Dense(512, activation='relu', input_shape=(input_dim,), kernel_initializer=RandomNormal(mean=0.0, stddev=0.051, seed=None)))\n",
    "model_two.add(BatchNormalization())\n",
    "model_two.add(Dropout(0.5))\n",
    "\n",
    "model_two.add(Dense(256, activation='relu', kernel_initializer=RandomNormal(mean=0.0, stddev=0.0625, seed=None)))\n",
    "model_two.add(BatchNormalization())\n",
    "model_two.add(Dropout(0.5))\n",
    "\n",
    "model_two.add(Dense(128, activation='relu', kernel_initializer=RandomNormal(mean=0.0, stddev=0.088, seed=None)) )\n",
    "model_two.add(BatchNormalization())\n",
    "model_two.add(Dropout(0.5))\n",
    "\n",
    "model_two.add(Dense(output_dim, activation='softmax'))\n",
    "\n",
    "\n",
    "model_two.summary()"
   ]
  },
  {
   "cell_type": "code",
   "execution_count": 28,
   "metadata": {
    "colab": {
     "base_uri": "https://localhost:8080/",
     "height": 746
    },
    "colab_type": "code",
    "id": "ttAs9Zhue2S5",
    "outputId": "429d18c7-0ef7-44f9-d853-c4663d751c24"
   },
   "outputs": [
    {
     "name": "stdout",
     "output_type": "stream",
     "text": [
      "Train on 60000 samples, validate on 10000 samples\n",
      "Epoch 1/20\n",
      "60000/60000 [==============================] - 12s 204us/step - loss: 0.5734 - acc: 0.8250 - val_loss: 0.1576 - val_acc: 0.9495\n",
      "Epoch 2/20\n",
      "60000/60000 [==============================] - 10s 169us/step - loss: 0.2479 - acc: 0.9260 - val_loss: 0.1196 - val_acc: 0.9632\n",
      "Epoch 3/20\n",
      "60000/60000 [==============================] - 10s 169us/step - loss: 0.1950 - acc: 0.9419 - val_loss: 0.1053 - val_acc: 0.9671\n",
      "Epoch 4/20\n",
      "60000/60000 [==============================] - 10s 170us/step - loss: 0.1602 - acc: 0.9530 - val_loss: 0.0873 - val_acc: 0.9746\n",
      "Epoch 5/20\n",
      "60000/60000 [==============================] - 10s 170us/step - loss: 0.1417 - acc: 0.9576 - val_loss: 0.0816 - val_acc: 0.9748\n",
      "Epoch 6/20\n",
      "60000/60000 [==============================] - 10s 174us/step - loss: 0.1307 - acc: 0.9610 - val_loss: 0.0750 - val_acc: 0.9763\n",
      "Epoch 7/20\n",
      "60000/60000 [==============================] - 10s 174us/step - loss: 0.1164 - acc: 0.9651 - val_loss: 0.0710 - val_acc: 0.9782\n",
      "Epoch 8/20\n",
      "60000/60000 [==============================] - 10s 171us/step - loss: 0.1095 - acc: 0.9675 - val_loss: 0.0707 - val_acc: 0.9780\n",
      "Epoch 9/20\n",
      "60000/60000 [==============================] - 10s 169us/step - loss: 0.1032 - acc: 0.9697 - val_loss: 0.0725 - val_acc: 0.9802\n",
      "Epoch 10/20\n",
      "60000/60000 [==============================] - 10s 170us/step - loss: 0.0966 - acc: 0.9713 - val_loss: 0.0674 - val_acc: 0.9797\n",
      "Epoch 11/20\n",
      "60000/60000 [==============================] - 10s 170us/step - loss: 0.0921 - acc: 0.9725 - val_loss: 0.0631 - val_acc: 0.9813\n",
      "Epoch 12/20\n",
      "60000/60000 [==============================] - 10s 172us/step - loss: 0.0882 - acc: 0.9736 - val_loss: 0.0615 - val_acc: 0.9822\n",
      "Epoch 13/20\n",
      "60000/60000 [==============================] - 10s 173us/step - loss: 0.0837 - acc: 0.9749 - val_loss: 0.0598 - val_acc: 0.9826\n",
      "Epoch 14/20\n",
      "60000/60000 [==============================] - 10s 171us/step - loss: 0.0781 - acc: 0.9766 - val_loss: 0.0644 - val_acc: 0.9816\n",
      "Epoch 15/20\n",
      "60000/60000 [==============================] - 10s 172us/step - loss: 0.0725 - acc: 0.9779 - val_loss: 0.0604 - val_acc: 0.9826\n",
      "Epoch 16/20\n",
      "60000/60000 [==============================] - 10s 171us/step - loss: 0.0723 - acc: 0.9782 - val_loss: 0.0590 - val_acc: 0.9835\n",
      "Epoch 17/20\n",
      "60000/60000 [==============================] - 10s 170us/step - loss: 0.0705 - acc: 0.9785 - val_loss: 0.0536 - val_acc: 0.9844\n",
      "Epoch 18/20\n",
      "60000/60000 [==============================] - 10s 174us/step - loss: 0.0702 - acc: 0.9787 - val_loss: 0.0551 - val_acc: 0.9849\n",
      "Epoch 19/20\n",
      "60000/60000 [==============================] - 10s 172us/step - loss: 0.0645 - acc: 0.9804 - val_loss: 0.0529 - val_acc: 0.9854\n",
      "Epoch 20/20\n",
      "60000/60000 [==============================] - 10s 170us/step - loss: 0.0610 - acc: 0.9811 - val_loss: 0.0554 - val_acc: 0.9853\n"
     ]
    }
   ],
   "source": [
    "model_two.compile(optimizer='adam', loss='categorical_crossentropy', metrics=['accuracy'])\n",
    "\n",
    "history = model_two.fit(X_train, Y_train, batch_size=batch_size, epochs=nb_epoch, verbose=1, validation_data=(X_test, Y_test))"
   ]
  },
  {
   "cell_type": "code",
   "execution_count": 29,
   "metadata": {
    "colab": {
     "base_uri": "https://localhost:8080/",
     "height": 348
    },
    "colab_type": "code",
    "id": "UD_MMkcve97d",
    "outputId": "e89319e1-4153-47c7-ba92-10fbfb278f14"
   },
   "outputs": [
    {
     "name": "stdout",
     "output_type": "stream",
     "text": [
      "Test score: 0.05544591519308742\n",
      "Test accuracy: 0.9853\n"
     ]
    },
    {
     "data": {
      "text/plain": [
       "Text(0.5, 1, 'Input(784) - ReLu(512) - Dropout - ReLu(256)- Dropout - ReLu(128)- Dropout -Sigmoid(output)')"
      ]
     },
     "execution_count": 29,
     "metadata": {
      "tags": []
     },
     "output_type": "execute_result"
    },
    {
     "data": {
      "image/png": "[encoded data removed]",
      "text/plain": [
       "<Figure size 432x288 with 1 Axes>"
      ]
     },
     "metadata": {
      "tags": []
     },
     "output_type": "display_data"
    }
   ],
   "source": [
    "score = model_two.evaluate(X_test, Y_test, verbose=0) \n",
    "print('Test score:', score[0]) \n",
    "print('Test accuracy:', score[1])\n",
    "\n",
    "fig,ax = plt.subplots(1,1)\n",
    "ax.set_xlabel('epoch') ; ax.set_ylabel('Categorical Crossentropy Loss')\n",
    "\n",
    "# list of epoch numbers\n",
    "x = list(range(1,nb_epoch+1))\n",
    "\n",
    "# print(history.history.keys())\n",
    "# dict_keys(['val_loss', 'val_acc', 'loss', 'acc'])\n",
    "# history = model_drop.fit(X_train, Y_train, batch_size=batch_size, epochs=nb_epoch, verbose=1, validation_data=(X_test, Y_test))\n",
    "\n",
    "# we will get val_loss and val_acc only when you pass the paramter validation_data\n",
    "# val_loss : validation loss\n",
    "# val_acc : validation accuracy\n",
    "\n",
    "# loss : training loss\n",
    "# acc : train accuracy\n",
    "# for each key in histrory.histrory we will have a list of length equal to number of epochs\n",
    "\n",
    "vy = history.history['val_loss'] #test\n",
    "ty = history.history['loss']  #train\n",
    "plt_dynamic(x, vy, ty, ax,\"Input(784) - ReLu(512) - Dropout - ReLu(256)- Dropout - ReLu(128)- Dropout -Sigmoid(output)\")\n",
    "plt.title(\"Input(784) - ReLu(512) - Dropout - ReLu(256)- Dropout - ReLu(128)- Dropout -Sigmoid(output)\")"
   ]
  },
  {
   "cell_type": "markdown",
   "metadata": {
    "colab_type": "text",
    "id": "C5j_pz42dZzJ"
   },
   "source": [
    "### **Model 3: Input(784) - ReLu(628) - Dropout - ReLu(512) - Dropout - ReLu(256)- Dropout - ReLu(128) - Dropout - ReLu(64)- Dropout - Sigmoid(output)**\n",
    "\n",
    "###Five Hidden Layer"
   ]
  },
  {
   "cell_type": "code",
   "execution_count": 30,
   "metadata": {
    "colab": {
     "base_uri": "https://localhost:8080/",
     "height": 728
    },
    "colab_type": "code",
    "id": "4yYcdfzfhN9v",
    "outputId": "90dcbe3d-817c-414e-fac1-7a059550be4d"
   },
   "outputs": [
    {
     "name": "stdout",
     "output_type": "stream",
     "text": [
      "Model: \"sequential_6\"\n",
      "_________________________________________________________________\n",
      "Layer (type)                 Output Shape              Param #   \n",
      "=================================================================\n",
      "dense_16 (Dense)             (None, 628)               492980    \n",
      "_________________________________________________________________\n",
      "batch_normalization_12 (Batc (None, 628)               2512      \n",
      "_________________________________________________________________\n",
      "dropout_12 (Dropout)         (None, 628)               0         \n",
      "_________________________________________________________________\n",
      "dense_17 (Dense)             (None, 512)               322048    \n",
      "_________________________________________________________________\n",
      "batch_normalization_13 (Batc (None, 512)               2048      \n",
      "_________________________________________________________________\n",
      "dropout_13 (Dropout)         (None, 512)               0         \n",
      "_________________________________________________________________\n",
      "dense_18 (Dense)             (None, 256)               131328    \n",
      "_________________________________________________________________\n",
      "batch_normalization_14 (Batc (None, 256)               1024      \n",
      "_________________________________________________________________\n",
      "dropout_14 (Dropout)         (None, 256)               0         \n",
      "_________________________________________________________________\n",
      "dense_19 (Dense)             (None, 128)               32896     \n",
      "_________________________________________________________________\n",
      "batch_normalization_15 (Batc (None, 128)               512       \n",
      "_________________________________________________________________\n",
      "dropout_15 (Dropout)         (None, 128)               0         \n",
      "_________________________________________________________________\n",
      "dense_20 (Dense)             (None, 64)                8256      \n",
      "_________________________________________________________________\n",
      "batch_normalization_16 (Batc (None, 64)                256       \n",
      "_________________________________________________________________\n",
      "dropout_16 (Dropout)         (None, 64)                0         \n",
      "_________________________________________________________________\n",
      "dense_21 (Dense)             (None, 10)                650       \n",
      "=================================================================\n",
      "Total params: 994,510\n",
      "Trainable params: 991,334\n",
      "Non-trainable params: 3,176\n",
      "_________________________________________________________________\n"
     ]
    }
   ],
   "source": [
    "# https://stackoverflow.com/questions/34716454/where-do-i-call-the-batchnormalization-function-in-keras\n",
    "# Multilayer perceptron\n",
    "\n",
    "# https://arxiv.org/pdf/1707.09725.pdf#page=95\n",
    "# for relu layers\n",
    "# If we sample weights from a normal distribution N(0,σ) we satisfy this condition with σ=√(2/(ni). \n",
    "# h1 =>  σ=√(2/(fan_in) = 0.051  => N(0,σ) = N(0,0.051)\n",
    "# h2 =>  σ=√(2/(fan_in) = 0.056  => N(0,σ) = N(0,0.056)\n",
    "# h3 =>  σ=√(2/(fan_in) = 0.0625  => N(0,σ) = N(0,0.0625)\n",
    "# h4 =>  σ=√(2/(fan_in) = 0.088  => N(0,σ) = N(0,0.088)\n",
    "# h5 =>  σ=√(2/(fan_in) = 0.125  => N(0,σ) = N(0,0.125)\n",
    "# out =>  σ=√(2/(fan_in+1) = 0.176  => N(0,σ) = N(0,0.176)\n",
    "\n",
    "\n",
    "from keras.layers import Dropout\n",
    "\n",
    "model_three = Sequential()\n",
    "\n",
    "\n",
    "model_three.add(Dense(628, activation='relu', input_shape=(input_dim,), kernel_initializer=RandomNormal(mean=0.0, stddev=0.051, seed=None)))\n",
    "model_three.add(BatchNormalization())\n",
    "model_three.add(Dropout(0.5))\n",
    "\n",
    "model_three.add(Dense(512, activation='relu', kernel_initializer=RandomNormal(mean=0.0, stddev=0.056, seed=None)))\n",
    "model_three.add(BatchNormalization())\n",
    "model_three.add(Dropout(0.3))\n",
    "\n",
    "model_three.add(Dense(256, activation='relu', kernel_initializer=RandomNormal(mean=0.0, stddev=0.0625, seed=None)))\n",
    "model_three.add(BatchNormalization())\n",
    "model_three.add(Dropout(0.5))\n",
    "\n",
    "model_three.add(Dense(128, activation='relu', kernel_initializer=RandomNormal(mean=0.0, stddev=0.088, seed=None)) )\n",
    "model_three.add(BatchNormalization())\n",
    "model_three.add(Dropout(0.3))\n",
    "\n",
    "model_three.add(Dense(64, activation='relu', kernel_initializer=RandomNormal(mean=0.0, stddev=0.125, seed=None)) )\n",
    "model_three.add(BatchNormalization())\n",
    "model_three.add(Dropout(0.5))\n",
    "\n",
    "model_three.add(Dense(output_dim, activation='softmax'))\n",
    "\n",
    "\n",
    "model_three.summary()"
   ]
  },
  {
   "cell_type": "code",
   "execution_count": 31,
   "metadata": {
    "colab": {
     "base_uri": "https://localhost:8080/",
     "height": 746
    },
    "colab_type": "code",
    "id": "N42aeEkCjfli",
    "outputId": "ae157d5c-d00f-4c76-806e-827d7509c929"
   },
   "outputs": [
    {
     "name": "stdout",
     "output_type": "stream",
     "text": [
      "Train on 60000 samples, validate on 10000 samples\n",
      "Epoch 1/20\n",
      "60000/60000 [==============================] - 20s 327us/step - loss: 0.7900 - acc: 0.7596 - val_loss: 0.1859 - val_acc: 0.9453\n",
      "Epoch 2/20\n",
      "60000/60000 [==============================] - 17s 286us/step - loss: 0.2919 - acc: 0.9194 - val_loss: 0.1525 - val_acc: 0.9556\n",
      "Epoch 3/20\n",
      "60000/60000 [==============================] - 18s 294us/step - loss: 0.2270 - acc: 0.9378 - val_loss: 0.1171 - val_acc: 0.9681\n",
      "Epoch 4/20\n",
      "60000/60000 [==============================] - 17s 289us/step - loss: 0.1894 - acc: 0.9495 - val_loss: 0.1079 - val_acc: 0.9714\n",
      "Epoch 5/20\n",
      "60000/60000 [==============================] - 17s 290us/step - loss: 0.1665 - acc: 0.9552 - val_loss: 0.0920 - val_acc: 0.9742\n",
      "Epoch 6/20\n",
      "60000/60000 [==============================] - 17s 288us/step - loss: 0.1497 - acc: 0.9596 - val_loss: 0.0904 - val_acc: 0.9740\n",
      "Epoch 7/20\n",
      "60000/60000 [==============================] - 17s 287us/step - loss: 0.1359 - acc: 0.9639 - val_loss: 0.0886 - val_acc: 0.9757\n",
      "Epoch 8/20\n",
      "60000/60000 [==============================] - 17s 291us/step - loss: 0.1289 - acc: 0.9646 - val_loss: 0.0834 - val_acc: 0.9769\n",
      "Epoch 9/20\n",
      "60000/60000 [==============================] - 17s 287us/step - loss: 0.1218 - acc: 0.9672 - val_loss: 0.0844 - val_acc: 0.9781\n",
      "Epoch 10/20\n",
      "60000/60000 [==============================] - 17s 288us/step - loss: 0.1155 - acc: 0.9687 - val_loss: 0.0827 - val_acc: 0.9777\n",
      "Epoch 11/20\n",
      "60000/60000 [==============================] - 17s 289us/step - loss: 0.1048 - acc: 0.9718 - val_loss: 0.0765 - val_acc: 0.9791\n",
      "Epoch 12/20\n",
      "60000/60000 [==============================] - 17s 291us/step - loss: 0.0994 - acc: 0.9730 - val_loss: 0.0739 - val_acc: 0.9797\n",
      "Epoch 13/20\n",
      "60000/60000 [==============================] - 17s 287us/step - loss: 0.0987 - acc: 0.9733 - val_loss: 0.0693 - val_acc: 0.9811\n",
      "Epoch 14/20\n",
      "60000/60000 [==============================] - 17s 291us/step - loss: 0.0933 - acc: 0.9744 - val_loss: 0.0735 - val_acc: 0.9811\n",
      "Epoch 15/20\n",
      "60000/60000 [==============================] - 18s 296us/step - loss: 0.0898 - acc: 0.9752 - val_loss: 0.0658 - val_acc: 0.9814\n",
      "Epoch 16/20\n",
      "60000/60000 [==============================] - 17s 287us/step - loss: 0.0839 - acc: 0.9774 - val_loss: 0.0704 - val_acc: 0.9821\n",
      "Epoch 17/20\n",
      "60000/60000 [==============================] - 17s 286us/step - loss: 0.0823 - acc: 0.9773 - val_loss: 0.0692 - val_acc: 0.9815\n",
      "Epoch 18/20\n",
      "60000/60000 [==============================] - 18s 295us/step - loss: 0.0792 - acc: 0.9783 - val_loss: 0.0654 - val_acc: 0.9823\n",
      "Epoch 19/20\n",
      "60000/60000 [==============================] - 17s 287us/step - loss: 0.0784 - acc: 0.9784 - val_loss: 0.0610 - val_acc: 0.9840\n",
      "Epoch 20/20\n",
      "60000/60000 [==============================] - 17s 289us/step - loss: 0.0722 - acc: 0.9806 - val_loss: 0.0664 - val_acc: 0.9828\n"
     ]
    }
   ],
   "source": [
    "model_three.compile(optimizer='adam', loss='categorical_crossentropy', metrics=['accuracy'])\n",
    "\n",
    "history = model_three.fit(X_train, Y_train, batch_size=batch_size, epochs=nb_epoch, verbose=1, validation_data=(X_test, Y_test))"
   ]
  },
  {
   "cell_type": "code",
   "execution_count": 32,
   "metadata": {
    "colab": {
     "base_uri": "https://localhost:8080/",
     "height": 348
    },
    "colab_type": "code",
    "id": "HJlLkgI-jqPX",
    "outputId": "22761040-56c5-4371-b021-e3a4af4d8511"
   },
   "outputs": [
    {
     "name": "stdout",
     "output_type": "stream",
     "text": [
      "Test score: 0.06638645441420377\n",
      "Test accuracy: 0.9828\n"
     ]
    },
    {
     "data": {
      "text/plain": [
       "Text(0.5, 1, 'Input(784) - ReLu(512) - Dropout - ReLu(256)- Dropout - ReLu(128)- Dropout -Sigmoid(output)')"
      ]
     },
     "execution_count": 32,
     "metadata": {
      "tags": []
     },
     "output_type": "execute_result"
    },
    {
     "data": {
      "image/png": "[encoded data removed]",
      "text/plain": [
       "<Figure size 432x288 with 1 Axes>"
      ]
     },
     "metadata": {
      "tags": []
     },
     "output_type": "display_data"
    }
   ],
   "source": [
    "score = model_three.evaluate(X_test, Y_test, verbose=0) \n",
    "print('Test score:', score[0]) \n",
    "print('Test accuracy:', score[1])\n",
    "\n",
    "fig,ax = plt.subplots(1,1)\n",
    "ax.set_xlabel('epoch') ; ax.set_ylabel('Categorical Crossentropy Loss')\n",
    "\n",
    "# list of epoch numbers\n",
    "x = list(range(1,nb_epoch+1))\n",
    "\n",
    "# print(history.history.keys())\n",
    "# dict_keys(['val_loss', 'val_acc', 'loss', 'acc'])\n",
    "# history = model_drop.fit(X_train, Y_train, batch_size=batch_size, epochs=nb_epoch, verbose=1, validation_data=(X_test, Y_test))\n",
    "\n",
    "# we will get val_loss and val_acc only when you pass the paramter validation_data\n",
    "# val_loss : validation loss\n",
    "# val_acc : validation accuracy\n",
    "\n",
    "# loss : training loss\n",
    "# acc : train accuracy\n",
    "# for each key in histrory.histrory we will have a list of length equal to number of epochs\n",
    "\n",
    "vy = history.history['val_loss'] #test\n",
    "ty = history.history['loss']  #train\n",
    "plt_dynamic(x, vy, ty, ax,\"Input(784) - ReLu(512) - Dropout - ReLu(256)- Dropout - ReLu(128)- Dropout -Sigmoid(output)\")\n",
    "plt.title(\"Input(784) - ReLu(512) - Dropout - ReLu(256)- Dropout - ReLu(128)- Dropout -Sigmoid(output)\")"
   ]
  },
  {
   "cell_type": "code",
   "execution_count": 20,
   "metadata": {
    "colab": {
     "base_uri": "https://localhost:8080/",
     "height": 141
    },
    "colab_type": "code",
    "id": "huqr5UoXjxOK",
    "outputId": "54e31a6b-f042-446c-d4ba-b4561f8f4c5e"
   },
   "outputs": [
    {
     "name": "stdout",
     "output_type": "stream",
     "text": [
      "+------------------------------------------------+---------------+------------+---------+-----------+----------+\n",
      "|                     MODEL                      | Hidden layers | Batch Norm | Dropout | Optimizer | Accuracy |\n",
      "+------------------------------------------------+---------------+------------+---------+-----------+----------+\n",
      "| Input(784)-ReLu(512)-ReLu(128)-Sigmoid(output) |       2       |    Yes     |   Yes   |    Adam   |  0.9834  |\n",
      "|        Input(784)-ReLu(512)-ReLu(256)-         |       3       |    Yes     |   Yes   |    Adam   |  0.9853  |\n",
      "|           ReLu(128)-Sigmoid(output)            |               |            |         |           |          |\n",
      "|        Input(784)-ReLu(628)-ReLu(512)-         |       5       |    Yes     |   Yes   |    Adam   |  0.9828  |\n",
      "|  ReLu(256)-ReLu(128)-ReLu(64)-Sigmoid(output)  |               |            |         |           |          |\n",
      "+------------------------------------------------+---------------+------------+---------+-----------+----------+\n"
     ]
    }
   ],
   "source": [
    "# Please compare all your models using Prettytable library\n",
    "# http://zetcode.com/python/prettytable/\n",
    "from prettytable import PrettyTable\n",
    "TB = PrettyTable()\n",
    "\n",
    "TB.field_names = [\"MODEL\", \"Hidden layers\",\"Batch Norm\", \"Dropout\", \"Optimizer\",\"Accuracy\"]\n",
    "TB.title = \"MLP with Keras \"\n",
    "TB.add_row([\"Input(784)-ReLu(512)-ReLu(128)-Sigmoid(output)\",\"2\", \"Yes\",\"Yes\",\"Adam\",0.9834])\n",
    "TB.add_row([\"Input(784)-ReLu(512)-ReLu(256)-\"+\"\\n\"+\"ReLu(128)-Sigmoid(output)\", \"3\", \"Yes\",\"Yes\",\"Adam\", 0.9853])\n",
    "TB.add_row([\"Input(784)-ReLu(628)-ReLu(512)-\"+\"\\n\"+\"ReLu(256)-ReLu(128)-ReLu(64)-Sigmoid(output)\",\"5\", \"Yes\",\"Yes\",\"Adam\", 0.9828])\n",
    "print(TB)\n"
   ]
  },
  {
   "cell_type": "code",
   "execution_count": 0,
   "metadata": {
    "colab": {},
    "colab_type": "code",
    "id": "xxFGStmymATO"
   },
   "outputs": [],
   "source": []
  }
 ],
 "metadata": {
  "colab": {
   "collapsed_sections": [],
   "name": "Untitled8.ipynb",
   "provenance": []
  },
  "kernelspec": {
   "display_name": "Python 3",
   "language": "python",
   "name": "python3"
  },
  "language_info": {
   "codemirror_mode": {
    "name": "ipython",
    "version": 3
   },
   "file_extension": ".py",
   "mimetype": "text/x-python",
   "name": "python",
   "nbconvert_exporter": "python",
   "pygments_lexer": "ipython3",
   "version": "3.6.10"
  }
 },
 "nbformat": 4,
 "nbformat_minor": 1
}
