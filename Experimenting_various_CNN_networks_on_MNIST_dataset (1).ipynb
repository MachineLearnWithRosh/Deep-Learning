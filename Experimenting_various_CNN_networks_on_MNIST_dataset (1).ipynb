{
  "nbformat": 4,
  "nbformat_minor": 0,
  "metadata": {
    "colab": {
      "name": "Experimenting various CNN networks on MNIST dataset.ipynb",
      "provenance": [],
      "collapsed_sections": []
    },
    "kernelspec": {
      "name": "python3",
      "display_name": "Python 3"
    },
    "accelerator": "GPU"
  },
  "cells": [
    {
      "cell_type": "markdown",
      "metadata": {
        "id": "MvDLwoWiDaeJ",
        "colab_type": "text"
      },
      "source": [
        "## **CNN ON MNIST Dataset**"
      ]
    },
    {
      "cell_type": "code",
      "metadata": {
        "id": "_w-vtD65DM2c",
        "colab_type": "code",
        "colab": {}
      },
      "source": [
        "# Credits: https://github.com/keras-team/keras/blob/master/examples/mnist_cnn.py"
      ],
      "execution_count": 0,
      "outputs": []
    },
    {
      "cell_type": "code",
      "metadata": {
        "id": "d0ecf8-lDk1E",
        "colab_type": "code",
        "colab": {}
      },
      "source": [
        "import warnings\n",
        "warnings.filterwarnings(\"ignore\")\n",
        "\n",
        "from __future__ import print_function\n",
        "import keras\n",
        "from keras.datasets import mnist\n",
        "from keras.models import Sequential\n",
        "from keras.layers import Dense, Dropout, Flatten\n",
        "from keras.layers import Conv2D, MaxPooling2D\n",
        "from keras import backend as K\n",
        "from keras.utils import np_utils"
      ],
      "execution_count": 0,
      "outputs": []
    },
    {
      "cell_type": "code",
      "metadata": {
        "id": "Br2Cuu2RDpvx",
        "colab_type": "code",
        "colab": {}
      },
      "source": [
        "batch_size = 128\n",
        "num_classes = 10\n",
        "epochs = 10\n",
        "\n",
        "# input image dimensions\n",
        "img_rows, img_cols = 28, 28"
      ],
      "execution_count": 0,
      "outputs": []
    },
    {
      "cell_type": "code",
      "metadata": {
        "id": "QY3bXmxfD0Uk",
        "colab_type": "code",
        "colab": {}
      },
      "source": [
        "# the data, split between train and test sets\n",
        "(x_train, y_train), (x_test, y_test) = mnist.load_data()"
      ],
      "execution_count": 0,
      "outputs": []
    },
    {
      "cell_type": "code",
      "metadata": {
        "id": "LZcs28kpD61M",
        "colab_type": "code",
        "colab": {
          "base_uri": "https://localhost:8080/",
          "height": 35
        },
        "outputId": "bd328549-9440-4619-f455-ad2885b4e526"
      },
      "source": [
        "print(K.image_data_format())\n",
        "\n",
        "if K.image_data_format() == 'channels_first':\n",
        "    x_train = x_train.reshape(x_train.shape[0], 1, img_rows, img_cols)\n",
        "    x_test = x_test.reshape(x_test.shape[0], 1, img_rows, img_cols)\n",
        "    input_shape = (1, img_rows, img_cols)\n",
        "else:\n",
        "    x_train = x_train.reshape(x_train.shape[0], img_rows, img_cols, 1)\n",
        "    x_test = x_test.reshape(x_test.shape[0], img_rows, img_cols, 1)\n",
        "    input_shape = (img_rows, img_cols, 1)"
      ],
      "execution_count": 8,
      "outputs": [
        {
          "output_type": "stream",
          "text": [
            "channels_last\n"
          ],
          "name": "stdout"
        }
      ]
    },
    {
      "cell_type": "code",
      "metadata": {
        "id": "cDiE6fwUEEfG",
        "colab_type": "code",
        "colab": {
          "base_uri": "https://localhost:8080/",
          "height": 52
        },
        "outputId": "2aa3add2-3d04-4e50-a8b4-79814e7d8d34"
      },
      "source": [
        "print(\"Train Shape\", x_train.shape)\n",
        "\n",
        "print(\"Test Shape\", x_test.shape)"
      ],
      "execution_count": 10,
      "outputs": [
        {
          "output_type": "stream",
          "text": [
            "Train Shape (60000, 28, 28, 1)\n",
            "Test Shape (10000, 28, 28, 1)\n"
          ],
          "name": "stdout"
        }
      ]
    },
    {
      "cell_type": "code",
      "metadata": {
        "id": "P6lZFs2YEPsp",
        "colab_type": "code",
        "colab": {
          "base_uri": "https://localhost:8080/",
          "height": 70
        },
        "outputId": "97297b3f-7e43-4172-ba3a-f29220919eb5"
      },
      "source": [
        "x_train = x_train.astype('float32')\n",
        "x_test = x_test.astype('float32')\n",
        "x_train /= 255\n",
        "x_test /= 255\n",
        "print('x_train shape:', x_train.shape)\n",
        "print(x_train.shape[0], 'train samples')\n",
        "print(x_test.shape[0], 'test samples')"
      ],
      "execution_count": 11,
      "outputs": [
        {
          "output_type": "stream",
          "text": [
            "x_train shape: (60000, 28, 28, 1)\n",
            "60000 train samples\n",
            "10000 test samples\n"
          ],
          "name": "stdout"
        }
      ]
    },
    {
      "cell_type": "code",
      "metadata": {
        "id": "OaoSWr91EoRJ",
        "colab_type": "code",
        "colab": {}
      },
      "source": [
        "# lets convert this into a 10 dimensional vector\n",
        "# ex: consider an image is 5 convert it into 5 => [0, 0, 0, 0, 0, 1, 0, 0, 0, 0]\n",
        "# this conversion needed for MLPs\n",
        "\n",
        "# convert class vectors to binary class matrices\n",
        "y_train = keras.utils.to_categorical(y_train, num_classes)\n",
        "y_test = keras.utils.to_categorical(y_test, num_classes)"
      ],
      "execution_count": 0,
      "outputs": []
    },
    {
      "cell_type": "code",
      "metadata": {
        "id": "M7LMAsvtFogz",
        "colab_type": "code",
        "colab": {}
      },
      "source": [
        "# this function is used draw Categorical Crossentropy Loss VS No. of epochs plot\n",
        "import matplotlib.pyplot as plt\n",
        "\n",
        "def plt_dynamic(x, vy, ty):\n",
        "  plt.figure(figsize=(15,8))\n",
        "  plt.plot(x, vy, 'g', label=\"Validation Loss\")\n",
        "  plt.plot(x, ty, 'r', label=\"Train Loss\")\n",
        "  plt.xlabel('Epochs') \n",
        "  plt.ylabel('Categorical Crossentropy Loss')\n",
        "  plt.title('\\nCategorical Crossentropy Loss VS Epochs')\n",
        "  plt.legend()\n",
        "  plt.grid()\n",
        "  plt.show()"
      ],
      "execution_count": 0,
      "outputs": []
    },
    {
      "cell_type": "markdown",
      "metadata": {
        "id": "rxm6nj_tHEF5",
        "colab_type": "text"
      },
      "source": [
        "## 1. CNN with 3 Convolutional layers and kernel size - (3X3)"
      ]
    },
    {
      "cell_type": "code",
      "metadata": {
        "id": "ZugC0_yrGcwE",
        "colab_type": "code",
        "colab": {
          "base_uri": "https://localhost:8080/",
          "height": 550
        },
        "outputId": "dc4db8c0-99a2-425f-b507-bf7e4c97d544"
      },
      "source": [
        "#CNN with 3 Convolutional layers and kernel size - (3X3)\n",
        "from keras.initializers import he_normal\n",
        "from keras.layers.normalization import BatchNormalization\n",
        "\n",
        "#defining first model\n",
        "model_1 = Sequential()\n",
        "\n",
        "#first convolution layer\n",
        "model_1.add(Conv2D(32, kernel_size=(3, 3), activation='relu', input_shape=input_shape))\n",
        "\n",
        "#second convolution layer\n",
        "model_1.add(Conv2D(64, (3, 3), activation='relu'))\n",
        "\n",
        "#maxpool layer\n",
        "model_1.add(MaxPooling2D(pool_size=(2, 2)))\n",
        "\n",
        "#adding dropout\n",
        "model_1.add(Dropout(0.25))\n",
        "\n",
        "#third convolution layer\n",
        "model_1.add(Conv2D(128, (3, 3), activation='relu'))\n",
        "\n",
        "#adding dropout\n",
        "model_1.add(Dropout(0.50))\n",
        "\n",
        "model_1.add(Flatten())\n",
        "\n",
        "#adding first hidden layer\n",
        "model_1.add(Dense(128, activation='relu', kernel_initializer=he_normal(seed=None)))\n",
        "\n",
        "model_1.add(BatchNormalization())\n",
        "\n",
        "model_1.add(Dropout(0.5))\n",
        "\n",
        "model_1.add(Dense(num_classes, activation='softmax'))\n",
        "\n",
        "model_1.summary()"
      ],
      "execution_count": 19,
      "outputs": [
        {
          "output_type": "stream",
          "text": [
            "Model: \"sequential_3\"\n",
            "_________________________________________________________________\n",
            "Layer (type)                 Output Shape              Param #   \n",
            "=================================================================\n",
            "conv2d_7 (Conv2D)            (None, 26, 26, 32)        320       \n",
            "_________________________________________________________________\n",
            "conv2d_8 (Conv2D)            (None, 24, 24, 64)        18496     \n",
            "_________________________________________________________________\n",
            "max_pooling2d_3 (MaxPooling2 (None, 12, 12, 64)        0         \n",
            "_________________________________________________________________\n",
            "dropout_5 (Dropout)          (None, 12, 12, 64)        0         \n",
            "_________________________________________________________________\n",
            "conv2d_9 (Conv2D)            (None, 10, 10, 128)       73856     \n",
            "_________________________________________________________________\n",
            "dropout_6 (Dropout)          (None, 10, 10, 128)       0         \n",
            "_________________________________________________________________\n",
            "flatten_3 (Flatten)          (None, 12800)             0         \n",
            "_________________________________________________________________\n",
            "dense_2 (Dense)              (None, 128)               1638528   \n",
            "_________________________________________________________________\n",
            "batch_normalization_1 (Batch (None, 128)               512       \n",
            "_________________________________________________________________\n",
            "dropout_7 (Dropout)          (None, 128)               0         \n",
            "_________________________________________________________________\n",
            "dense_3 (Dense)              (None, 10)                1290      \n",
            "=================================================================\n",
            "Total params: 1,733,002\n",
            "Trainable params: 1,732,746\n",
            "Non-trainable params: 256\n",
            "_________________________________________________________________\n"
          ],
          "name": "stdout"
        }
      ]
    },
    {
      "cell_type": "code",
      "metadata": {
        "id": "BZdBnUWkJ44M",
        "colab_type": "code",
        "colab": {
          "base_uri": "https://localhost:8080/",
          "height": 748
        },
        "outputId": "e122bbec-fc2a-405c-879c-b6011b0c11bb"
      },
      "source": [
        "model_1.compile(optimizer='adam', loss='categorical_crossentropy', metrics=['accuracy'])\n",
        "history = model_1.fit(x_train, y_train, batch_size=batch_size, epochs=epochs, verbose=2, validation_data=(x_test, y_test))"
      ],
      "execution_count": 22,
      "outputs": [
        {
          "output_type": "stream",
          "text": [
            "WARNING:tensorflow:From /usr/local/lib/python3.6/dist-packages/tensorflow_core/python/ops/math_grad.py:1424: where (from tensorflow.python.ops.array_ops) is deprecated and will be removed in a future version.\n",
            "Instructions for updating:\n",
            "Use tf.where in 2.0, which has the same broadcast rule as np.where\n",
            "WARNING:tensorflow:From /usr/local/lib/python3.6/dist-packages/keras/backend/tensorflow_backend.py:1033: The name tf.assign_add is deprecated. Please use tf.compat.v1.assign_add instead.\n",
            "\n",
            "WARNING:tensorflow:From /usr/local/lib/python3.6/dist-packages/keras/backend/tensorflow_backend.py:1020: The name tf.assign is deprecated. Please use tf.compat.v1.assign instead.\n",
            "\n",
            "WARNING:tensorflow:From /usr/local/lib/python3.6/dist-packages/keras/backend/tensorflow_backend.py:3005: The name tf.Session is deprecated. Please use tf.compat.v1.Session instead.\n",
            "\n",
            "Train on 60000 samples, validate on 10000 samples\n",
            "Epoch 1/10\n",
            "WARNING:tensorflow:From /usr/local/lib/python3.6/dist-packages/keras/backend/tensorflow_backend.py:190: The name tf.get_default_session is deprecated. Please use tf.compat.v1.get_default_session instead.\n",
            "\n",
            "WARNING:tensorflow:From /usr/local/lib/python3.6/dist-packages/keras/backend/tensorflow_backend.py:197: The name tf.ConfigProto is deprecated. Please use tf.compat.v1.ConfigProto instead.\n",
            "\n",
            "WARNING:tensorflow:From /usr/local/lib/python3.6/dist-packages/keras/backend/tensorflow_backend.py:207: The name tf.global_variables is deprecated. Please use tf.compat.v1.global_variables instead.\n",
            "\n",
            "WARNING:tensorflow:From /usr/local/lib/python3.6/dist-packages/keras/backend/tensorflow_backend.py:216: The name tf.is_variable_initialized is deprecated. Please use tf.compat.v1.is_variable_initialized instead.\n",
            "\n",
            "WARNING:tensorflow:From /usr/local/lib/python3.6/dist-packages/keras/backend/tensorflow_backend.py:223: The name tf.variables_initializer is deprecated. Please use tf.compat.v1.variables_initializer instead.\n",
            "\n",
            " - 22s - loss: 0.1674 - acc: 0.9495 - val_loss: 0.0368 - val_acc: 0.9877\n",
            "Epoch 2/10\n",
            " - 6s - loss: 0.0607 - acc: 0.9826 - val_loss: 0.0262 - val_acc: 0.9916\n",
            "Epoch 3/10\n",
            " - 6s - loss: 0.0474 - acc: 0.9852 - val_loss: 0.0427 - val_acc: 0.9869\n",
            "Epoch 4/10\n",
            " - 6s - loss: 0.0408 - acc: 0.9880 - val_loss: 0.0211 - val_acc: 0.9926\n",
            "Epoch 5/10\n",
            " - 6s - loss: 0.0343 - acc: 0.9892 - val_loss: 0.0228 - val_acc: 0.9931\n",
            "Epoch 6/10\n",
            " - 6s - loss: 0.0322 - acc: 0.9899 - val_loss: 0.0243 - val_acc: 0.9924\n",
            "Epoch 7/10\n",
            " - 6s - loss: 0.0316 - acc: 0.9898 - val_loss: 0.0324 - val_acc: 0.9901\n",
            "Epoch 8/10\n",
            " - 6s - loss: 0.0271 - acc: 0.9915 - val_loss: 0.0212 - val_acc: 0.9921\n",
            "Epoch 9/10\n",
            " - 6s - loss: 0.0260 - acc: 0.9917 - val_loss: 0.0191 - val_acc: 0.9932\n",
            "Epoch 10/10\n",
            " - 6s - loss: 0.0218 - acc: 0.9931 - val_loss: 0.0265 - val_acc: 0.9913\n"
          ],
          "name": "stdout"
        }
      ]
    },
    {
      "cell_type": "code",
      "metadata": {
        "id": "BfYqZL64K2Lv",
        "colab_type": "code",
        "colab": {
          "base_uri": "https://localhost:8080/",
          "height": 564
        },
        "outputId": "88c57816-a747-4d7c-80d6-61a2fd765171"
      },
      "source": [
        "# Evaluating the model\n",
        "score = model_1.evaluate(x_test, y_test, verbose=0) \n",
        "print('Test score:', score[0]) \n",
        "print('Test accuracy:', score[1])\n",
        "\n",
        "# Test and train accuracy of the model\n",
        "model_3_test = score[1]\n",
        "model_3_train = max(history.history['acc'])\n",
        "\n",
        "# Plotting Train and Test Loss VS no. of epochs\n",
        "# list of epoch numbers\n",
        "x = list(range(1,epochs+1))\n",
        "\n",
        "# Validation loss\n",
        "vy = history.history['val_loss']\n",
        "# Training loss\n",
        "ty = history.history['loss']\n",
        "\n",
        "# Calling the function to draw the plot\n",
        "plt_dynamic(x, vy, ty)"
      ],
      "execution_count": 26,
      "outputs": [
        {
          "output_type": "stream",
          "text": [
            "Test score: 0.026458364065083152\n",
            "Test accuracy: 0.9913\n"
          ],
          "name": "stdout"
        },
        {
          "output_type": "display_data",
          "data": {
            "image/png": "[encoded data removed]",
            "text/plain": [
              "<Figure size 1080x576 with 1 Axes>"
            ]
          },
          "metadata": {
            "tags": []
          }
        }
      ]
    },
    {
      "cell_type": "markdown",
      "metadata": {
        "id": "9QlthwZ4Mk-C",
        "colab_type": "text"
      },
      "source": [
        "### 2. CNN with 5 Convolutional layers and kernel size - (5X5)"
      ]
    },
    {
      "cell_type": "code",
      "metadata": {
        "id": "OPOwBkW-Lqw9",
        "colab_type": "code",
        "colab": {
          "base_uri": "https://localhost:8080/",
          "height": 781
        },
        "outputId": "320b9be6-472d-4fce-c39f-5b0c1094c4e9"
      },
      "source": [
        "from keras.layers import ZeroPadding2D\n",
        "\n",
        "#CNN with 3 Convolutional layers and kernel size - (3X3)\n",
        "print(input_shape)\n",
        "#28*28\n",
        "\n",
        "#defining first model\n",
        "model_2 = Sequential()\n",
        "\n",
        "#first convolution layer\n",
        "model_2.add(Conv2D(16, kernel_size=(5,5), activation='relu',padding='same', input_shape=input_shape))\n",
        "#28*28*16\n",
        "\n",
        "#second convolution layer\n",
        "model_2.add(Conv2D(32, (5,5), activation='relu'))\n",
        "#24*24*32\n",
        "\n",
        "#maxpool layer\n",
        "model_2.add(MaxPooling2D(pool_size=(2, 2)))\n",
        "#12*12*32\n",
        "\n",
        "#adding dropout\n",
        "model_2.add(Dropout(0.25))\n",
        "\n",
        "#third convolution layer\n",
        "model_2.add(Conv2D(64, (5,5), activation='relu',padding='same'))\n",
        "#12*12*64\n",
        "\n",
        "#maxpool layer\n",
        "model_2.add(MaxPooling2D(pool_size=(2, 2)))\n",
        "#6*6*64\n",
        "\n",
        "#adding dropout\n",
        "model_2.add(Dropout(0.50))\n",
        "\n",
        "#fourth convolution layer\n",
        "model_2.add(Conv2D(128, (5,5), activation='relu',padding='valid'))\n",
        "model_2.add(ZeroPadding2D(padding=(2, 2), data_format=None))\n",
        "#6*6*128\n",
        "\n",
        "#fifth convolution layer\n",
        "model_2.add(Conv2D(128, (5,5), activation='relu'))\n",
        "#2*2*128\n",
        "\n",
        "#maxpool layer\n",
        "model_2.add(MaxPooling2D(pool_size=(2, 2),padding='same'))\n",
        "\n",
        "#adding dropout\n",
        "model_2.add(Dropout(0.30))\n",
        "\n",
        "model_2.add(Flatten())\n",
        "\n",
        "#adding first hidden layer\n",
        "model_2.add(Dense(512, activation='relu', kernel_initializer=he_normal(seed=None)))\n",
        "\n",
        "model_2.add(BatchNormalization())\n",
        "\n",
        "model_2.add(Dropout(0.5))\n",
        "\n",
        "model_2.add(Dense(num_classes, activation='softmax'))\n",
        "\n",
        "model_2.summary()"
      ],
      "execution_count": 39,
      "outputs": [
        {
          "output_type": "stream",
          "text": [
            "(28, 28, 1)\n",
            "Model: \"sequential_16\"\n",
            "_________________________________________________________________\n",
            "Layer (type)                 Output Shape              Param #   \n",
            "=================================================================\n",
            "conv2d_62 (Conv2D)           (None, 28, 28, 16)        416       \n",
            "_________________________________________________________________\n",
            "conv2d_63 (Conv2D)           (None, 24, 24, 32)        12832     \n",
            "_________________________________________________________________\n",
            "max_pooling2d_30 (MaxPooling (None, 12, 12, 32)        0         \n",
            "_________________________________________________________________\n",
            "dropout_37 (Dropout)         (None, 12, 12, 32)        0         \n",
            "_________________________________________________________________\n",
            "conv2d_64 (Conv2D)           (None, 12, 12, 64)        51264     \n",
            "_________________________________________________________________\n",
            "max_pooling2d_31 (MaxPooling (None, 6, 6, 64)          0         \n",
            "_________________________________________________________________\n",
            "dropout_38 (Dropout)         (None, 6, 6, 64)          0         \n",
            "_________________________________________________________________\n",
            "conv2d_65 (Conv2D)           (None, 2, 2, 128)         204928    \n",
            "_________________________________________________________________\n",
            "zero_padding2d_1 (ZeroPaddin (None, 6, 6, 128)         0         \n",
            "_________________________________________________________________\n",
            "conv2d_66 (Conv2D)           (None, 2, 2, 128)         409728    \n",
            "_________________________________________________________________\n",
            "max_pooling2d_32 (MaxPooling (None, 1, 1, 128)         0         \n",
            "_________________________________________________________________\n",
            "dropout_39 (Dropout)         (None, 1, 1, 128)         0         \n",
            "_________________________________________________________________\n",
            "flatten_5 (Flatten)          (None, 128)               0         \n",
            "_________________________________________________________________\n",
            "dense_6 (Dense)              (None, 512)               66048     \n",
            "_________________________________________________________________\n",
            "batch_normalization_3 (Batch (None, 512)               2048      \n",
            "_________________________________________________________________\n",
            "dropout_40 (Dropout)         (None, 512)               0         \n",
            "_________________________________________________________________\n",
            "dense_7 (Dense)              (None, 10)                5130      \n",
            "=================================================================\n",
            "Total params: 752,394\n",
            "Trainable params: 751,370\n",
            "Non-trainable params: 1,024\n",
            "_________________________________________________________________\n"
          ],
          "name": "stdout"
        }
      ]
    },
    {
      "cell_type": "code",
      "metadata": {
        "id": "LQWdg6aIOH5v",
        "colab_type": "code",
        "colab": {
          "base_uri": "https://localhost:8080/",
          "height": 390
        },
        "outputId": "68d226c5-28ee-4ca2-e3be-1ed7ea0314b0"
      },
      "source": [
        "model_2.compile(optimizer='adam', loss='categorical_crossentropy', metrics=['accuracy'])\n",
        "history = model_2.fit(x_train, y_train, batch_size=batch_size, epochs=epochs, verbose=2, validation_data=(x_test, y_test))"
      ],
      "execution_count": 40,
      "outputs": [
        {
          "output_type": "stream",
          "text": [
            "Train on 60000 samples, validate on 10000 samples\n",
            "Epoch 1/10\n",
            " - 7s - loss: 0.2627 - acc: 0.9160 - val_loss: 0.0478 - val_acc: 0.9854\n",
            "Epoch 2/10\n",
            " - 5s - loss: 0.0796 - acc: 0.9775 - val_loss: 0.0291 - val_acc: 0.9913\n",
            "Epoch 3/10\n",
            " - 6s - loss: 0.0569 - acc: 0.9838 - val_loss: 0.0208 - val_acc: 0.9932\n",
            "Epoch 4/10\n",
            " - 5s - loss: 0.0476 - acc: 0.9865 - val_loss: 0.0236 - val_acc: 0.9928\n",
            "Epoch 5/10\n",
            " - 5s - loss: 0.0430 - acc: 0.9875 - val_loss: 0.0183 - val_acc: 0.9941\n",
            "Epoch 6/10\n",
            " - 5s - loss: 0.0367 - acc: 0.9892 - val_loss: 0.0176 - val_acc: 0.9940\n",
            "Epoch 7/10\n",
            " - 5s - loss: 0.0361 - acc: 0.9897 - val_loss: 0.0229 - val_acc: 0.9933\n",
            "Epoch 8/10\n",
            " - 5s - loss: 0.0318 - acc: 0.9910 - val_loss: 0.0217 - val_acc: 0.9942\n",
            "Epoch 9/10\n",
            " - 5s - loss: 0.0278 - acc: 0.9918 - val_loss: 0.0258 - val_acc: 0.9922\n",
            "Epoch 10/10\n",
            " - 5s - loss: 0.0303 - acc: 0.9914 - val_loss: 0.0199 - val_acc: 0.9942\n"
          ],
          "name": "stdout"
        }
      ]
    },
    {
      "cell_type": "code",
      "metadata": {
        "id": "3M5Wla-aUvgP",
        "colab_type": "code",
        "colab": {
          "base_uri": "https://localhost:8080/",
          "height": 564
        },
        "outputId": "d7a5e47e-39bb-47d0-8dbe-f7ecd769cdb4"
      },
      "source": [
        "# Evaluating the model\n",
        "score = model_2.evaluate(x_test, y_test, verbose=0) \n",
        "print('Test score:', score[0]) \n",
        "print('Test accuracy:', score[1])\n",
        "\n",
        "# Test and train accuracy of the model\n",
        "model_3_test = score[1]\n",
        "model_3_train = max(history.history['acc'])\n",
        "\n",
        "# Plotting Train and Test Loss VS no. of epochs\n",
        "# list of epoch numbers\n",
        "x = list(range(1,epochs+1))\n",
        "\n",
        "# Validation loss\n",
        "vy = history.history['val_loss']\n",
        "# Training loss\n",
        "ty = history.history['loss']\n",
        "\n",
        "# Calling the function to draw the plot\n",
        "plt_dynamic(x, vy, ty)"
      ],
      "execution_count": 42,
      "outputs": [
        {
          "output_type": "stream",
          "text": [
            "Test score: 0.01994788905597852\n",
            "Test accuracy: 0.9942\n"
          ],
          "name": "stdout"
        },
        {
          "output_type": "display_data",
          "data": {
            "image/png": "[encoded data removed]",
            "text/plain": [
              "<Figure size 1080x576 with 1 Axes>"
            ]
          },
          "metadata": {
            "tags": []
          }
        }
      ]
    },
    {
      "cell_type": "code",
      "metadata": {
        "id": "yisPhYiZVKoH",
        "colab_type": "code",
        "colab": {}
      },
      "source": [
        ""
      ],
      "execution_count": 0,
      "outputs": []
    },
    {
      "cell_type": "markdown",
      "metadata": {
        "id": "8rtkmXh9Vg05",
        "colab_type": "text"
      },
      "source": [
        "### 3. **CNN** with 7 Convolutional layers and kernel size - (2X2)"
      ]
    },
    {
      "cell_type": "code",
      "metadata": {
        "id": "PsSLRGicVoO9",
        "colab_type": "code",
        "colab": {
          "base_uri": "https://localhost:8080/",
          "height": 1000
        },
        "outputId": "f69a7d22-f7c7-4b02-cdc6-d9cdeb3b11e3"
      },
      "source": [
        "# Initialising the model\n",
        "model_7 = Sequential()\n",
        "\n",
        "# Adding first conv layer\n",
        "model_7.add(Conv2D(32, kernel_size=(2, 2),padding='same',activation='relu',input_shape=input_shape))\n",
        "\n",
        "# Adding second conv layer\n",
        "model_7.add(Conv2D(32, (2, 2), activation='relu'))\n",
        "\n",
        "# Adding Maxpooling layer\n",
        "model_7.add(MaxPooling2D(pool_size=(3, 3), strides=(1,1)))\n",
        "\n",
        "# Adding Dropout\n",
        "model_7.add(Dropout(0.3))\n",
        "\n",
        "# Adding third conv layer\n",
        "model_7.add(Conv2D(64, (2, 2), activation='relu'))\n",
        "\n",
        "# Adding Maxpooling layer\n",
        "model_7.add(MaxPooling2D(pool_size=(2, 2),padding='same'))\n",
        "\n",
        "\n",
        "# Adding fourth conv layer\n",
        "model_7.add(Conv2D(64, (2, 2),padding='same',activation='relu'))\n",
        "\n",
        "# Adding fifth conv layer\n",
        "model_7.add(Conv2D(128, (2, 2), activation='relu'))\n",
        "\n",
        "# Adding Maxpooling layer\n",
        "model_7.add(MaxPooling2D(pool_size=(3, 3),padding='same'))\n",
        "\n",
        "# Adding Dropout\n",
        "model_7.add(Dropout(0.3))\n",
        "\n",
        "# Adding sixth conv layer\n",
        "model_7.add(Conv2D(128, (2, 2),padding='same',activation='relu'))\n",
        "\n",
        "# Adding seventh conv layer\n",
        "model_7.add(Conv2D(256, (2, 2), activation='relu'))\n",
        "\n",
        "# Adding Maxpooling layer\n",
        "model_7.add(MaxPooling2D(pool_size=(2, 2), strides=(1,1)))\n",
        "\n",
        "# Adding Dropout\n",
        "model_7.add(Dropout(0.3))\n",
        "\n",
        "# Adding flatten layer\n",
        "model_7.add(Flatten())\n",
        "\n",
        "# Adding first hidden layer\n",
        "model_7.add(Dense(256, activation='relu',kernel_initializer=he_normal(seed=None)))\n",
        "\n",
        "# Adding Batch Normalization\n",
        "model_7.add(BatchNormalization())\n",
        "\n",
        "# Adding Dropout\n",
        "model_7.add(Dropout(0.3))\n",
        "\n",
        "# Adding second hidden layer\n",
        "model_7.add(Dense(128, activation='relu',kernel_initializer=he_normal(seed=None)))\n",
        "\n",
        "# Adding Dropout\n",
        "model_7.add(Dropout(0.3))\n",
        "\n",
        "# Adding output layer\n",
        "model_7.add(Dense(num_classes, activation='softmax'))\n",
        "\n",
        "# Printing model Summary\n",
        "print(model_7.summary())\n",
        "\n",
        "# Compiling the model\n",
        "model_7.compile(optimizer='adam', loss='categorical_crossentropy', metrics=['accuracy'])\n",
        "\n",
        "# Fitting the data to the model\n",
        "history_7 = model_7.fit(x_train, y_train,batch_size=batch_size,epochs=epochs,verbose=1,validation_data=(x_test, y_test))"
      ],
      "execution_count": 43,
      "outputs": [
        {
          "output_type": "stream",
          "text": [
            "Model: \"sequential_17\"\n",
            "_________________________________________________________________\n",
            "Layer (type)                 Output Shape              Param #   \n",
            "=================================================================\n",
            "conv2d_67 (Conv2D)           (None, 28, 28, 32)        160       \n",
            "_________________________________________________________________\n",
            "conv2d_68 (Conv2D)           (None, 27, 27, 32)        4128      \n",
            "_________________________________________________________________\n",
            "max_pooling2d_33 (MaxPooling (None, 25, 25, 32)        0         \n",
            "_________________________________________________________________\n",
            "dropout_41 (Dropout)         (None, 25, 25, 32)        0         \n",
            "_________________________________________________________________\n",
            "conv2d_69 (Conv2D)           (None, 24, 24, 64)        8256      \n",
            "_________________________________________________________________\n",
            "max_pooling2d_34 (MaxPooling (None, 12, 12, 64)        0         \n",
            "_________________________________________________________________\n",
            "conv2d_70 (Conv2D)           (None, 12, 12, 64)        16448     \n",
            "_________________________________________________________________\n",
            "conv2d_71 (Conv2D)           (None, 11, 11, 128)       32896     \n",
            "_________________________________________________________________\n",
            "max_pooling2d_35 (MaxPooling (None, 4, 4, 128)         0         \n",
            "_________________________________________________________________\n",
            "dropout_42 (Dropout)         (None, 4, 4, 128)         0         \n",
            "_________________________________________________________________\n",
            "conv2d_72 (Conv2D)           (None, 4, 4, 128)         65664     \n",
            "_________________________________________________________________\n",
            "conv2d_73 (Conv2D)           (None, 3, 3, 256)         131328    \n",
            "_________________________________________________________________\n",
            "max_pooling2d_36 (MaxPooling (None, 2, 2, 256)         0         \n",
            "_________________________________________________________________\n",
            "dropout_43 (Dropout)         (None, 2, 2, 256)         0         \n",
            "_________________________________________________________________\n",
            "flatten_6 (Flatten)          (None, 1024)              0         \n",
            "_________________________________________________________________\n",
            "dense_8 (Dense)              (None, 256)               262400    \n",
            "_________________________________________________________________\n",
            "batch_normalization_4 (Batch (None, 256)               1024      \n",
            "_________________________________________________________________\n",
            "dropout_44 (Dropout)         (None, 256)               0         \n",
            "_________________________________________________________________\n",
            "dense_9 (Dense)              (None, 128)               32896     \n",
            "_________________________________________________________________\n",
            "dropout_45 (Dropout)         (None, 128)               0         \n",
            "_________________________________________________________________\n",
            "dense_10 (Dense)             (None, 10)                1290      \n",
            "=================================================================\n",
            "Total params: 556,490\n",
            "Trainable params: 555,978\n",
            "Non-trainable params: 512\n",
            "_________________________________________________________________\n",
            "None\n",
            "Train on 60000 samples, validate on 10000 samples\n",
            "Epoch 1/10\n",
            "60000/60000 [==============================] - 9s 157us/step - loss: 0.4045 - acc: 0.8641 - val_loss: 0.0674 - val_acc: 0.9784\n",
            "Epoch 2/10\n",
            "60000/60000 [==============================] - 8s 128us/step - loss: 0.0929 - acc: 0.9724 - val_loss: 0.1196 - val_acc: 0.9664\n",
            "Epoch 3/10\n",
            "60000/60000 [==============================] - 8s 128us/step - loss: 0.0674 - acc: 0.9803 - val_loss: 0.0534 - val_acc: 0.9826\n",
            "Epoch 4/10\n",
            "60000/60000 [==============================] - 8s 125us/step - loss: 0.0567 - acc: 0.9838 - val_loss: 0.0447 - val_acc: 0.9865\n",
            "Epoch 5/10\n",
            "60000/60000 [==============================] - 8s 125us/step - loss: 0.0491 - acc: 0.9855 - val_loss: 0.0238 - val_acc: 0.9936\n",
            "Epoch 6/10\n",
            "60000/60000 [==============================] - 8s 126us/step - loss: 0.0410 - acc: 0.9876 - val_loss: 0.0288 - val_acc: 0.9901\n",
            "Epoch 7/10\n",
            "60000/60000 [==============================] - 8s 126us/step - loss: 0.0387 - acc: 0.9884 - val_loss: 0.0239 - val_acc: 0.9938\n",
            "Epoch 8/10\n",
            "60000/60000 [==============================] - 8s 127us/step - loss: 0.0359 - acc: 0.9890 - val_loss: 0.0217 - val_acc: 0.9930\n",
            "Epoch 9/10\n",
            "60000/60000 [==============================] - 8s 128us/step - loss: 0.0333 - acc: 0.9903 - val_loss: 0.0199 - val_acc: 0.9949\n",
            "Epoch 10/10\n",
            "60000/60000 [==============================] - 8s 126us/step - loss: 0.0297 - acc: 0.9911 - val_loss: 0.0195 - val_acc: 0.9948\n"
          ],
          "name": "stdout"
        }
      ]
    },
    {
      "cell_type": "code",
      "metadata": {
        "id": "WQ1yfg1HV2cF",
        "colab_type": "code",
        "colab": {
          "base_uri": "https://localhost:8080/",
          "height": 564
        },
        "outputId": "fdca3d1b-86de-47d3-9982-94846af85ffe"
      },
      "source": [
        "# Evaluating the model\n",
        "score = model_7.evaluate(x_test, y_test, verbose=0) \n",
        "print('Test score:', score[0]) \n",
        "print('Test accuracy:', score[1])\n",
        "\n",
        "# Test and train accuracy of the model\n",
        "model_3_test = score[1]\n",
        "model_3_train = max(history_7.history['acc'])\n",
        "\n",
        "# Plotting Train and Test Loss VS no. of epochs\n",
        "# list of epoch numbers\n",
        "x = list(range(1,epochs+1))\n",
        "\n",
        "# Validation loss\n",
        "vy = history_7.history['val_loss']\n",
        "# Training loss\n",
        "ty = history_7.history['loss']\n",
        "\n",
        "# Calling the function to draw the plot\n",
        "plt_dynamic(x, vy, ty)"
      ],
      "execution_count": 45,
      "outputs": [
        {
          "output_type": "stream",
          "text": [
            "Test score: 0.01948623714475907\n",
            "Test accuracy: 0.9948\n"
          ],
          "name": "stdout"
        },
        {
          "output_type": "display_data",
          "data": {
            "image/png": "[encoded data removed]",
            "text/plain": [
              "<Figure size 1080x576 with 1 Axes>"
            ]
          },
          "metadata": {
            "tags": []
          }
        }
      ]
    },
    {
      "cell_type": "markdown",
      "metadata": {
        "id": "-oSCvhqAWd3f",
        "colab_type": "text"
      },
      "source": [
        "### CONCLUSION"
      ]
    },
    {
      "cell_type": "markdown",
      "metadata": {
        "id": "QN_M-MfrWxnK",
        "colab_type": "text"
      },
      "source": [
        "## (a). Procedure Followed :"
      ]
    },
    {
      "cell_type": "markdown",
      "metadata": {
        "id": "cZONxuR4XIop",
        "colab_type": "text"
      },
      "source": [
        "1. Load MNIST dataset.\n",
        "2. Split the dataset into train and test.\n",
        "3. Normalize the train and test data.\n",
        "4. Convert class variable into categorical data vector.\n",
        "5. Implement Softmax classifier with Kernel Size of 3, 5 and 7 conv layers .\n",
        "6. Use kernel -size (3X3) , (5X5) and (2,2) .\n",
        "7. Draw Categorical Crossentropy Loss VS No.of Epochs plot ."
      ]
    },
    {
      "cell_type": "markdown",
      "metadata": {
        "id": "erHjLvt9XYAu",
        "colab_type": "text"
      },
      "source": [
        "### (b) Table (Different models with their train and test accuracies):¶"
      ]
    },
    {
      "cell_type": "code",
      "metadata": {
        "id": "N-suEOhvXXJ-",
        "colab_type": "code",
        "colab": {
          "base_uri": "https://localhost:8080/",
          "height": 141
        },
        "outputId": "2a35f26b-5a2c-4725-f10e-3d6ddd02b047"
      },
      "source": [
        "from prettytable import PrettyTable\n",
        "    \n",
        "x = PrettyTable()\n",
        "\n",
        "x.field_names = [\"No_Conv_Layers\", \"Kernel_size\", \"Training Accuracy\", \"Test Accuracy\"]\n",
        "\n",
        "x.add_row([3, \"(3x3)\",0.9931,0.9913])\n",
        "x.add_row([5, \"(5x5)\",0.9914,0.9942])\n",
        "x.add_row([7, \"(2x2)\",0.9911,0.9948])\n",
        "print(x)"
      ],
      "execution_count": 47,
      "outputs": [
        {
          "output_type": "stream",
          "text": [
            "+----------------+-------------+-------------------+---------------+\n",
            "| No_Conv_Layers | Kernel_size | Training Accuracy | Test Accuracy |\n",
            "+----------------+-------------+-------------------+---------------+\n",
            "|       3        |    (3x3)    |       0.9931      |     0.9913    |\n",
            "|       5        |    (5x5)    |       0.9914      |     0.9942    |\n",
            "|       7        |    (2x2)    |       0.9911      |     0.9948    |\n",
            "+----------------+-------------+-------------------+---------------+\n"
          ],
          "name": "stdout"
        }
      ]
    },
    {
      "cell_type": "code",
      "metadata": {
        "id": "6WpiZM-pXHBk",
        "colab_type": "code",
        "colab": {}
      },
      "source": [
        ""
      ],
      "execution_count": 0,
      "outputs": []
    }
  ]
}